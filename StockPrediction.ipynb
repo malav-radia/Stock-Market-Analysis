{
 "cells": [
  {
   "cell_type": "code",
   "execution_count": 3,
   "id": "f59b4425-3321-475b-bb6e-98932bee3585",
   "metadata": {
    "scrolled": true
   },
   "outputs": [
    {
     "name": "stdout",
     "output_type": "stream",
     "text": [
      "Collecting yfinance\n",
      "  Using cached yfinance-0.2.55-py2.py3-none-any.whl.metadata (5.8 kB)\n",
      "Requirement already satisfied: pandas>=1.3.0 in c:\\users\\admin\\anaconda3\\lib\\site-packages (from yfinance) (2.2.2)\n",
      "Requirement already satisfied: numpy>=1.16.5 in c:\\users\\admin\\anaconda3\\lib\\site-packages (from yfinance) (1.26.4)\n",
      "Requirement already satisfied: requests>=2.31 in c:\\users\\admin\\anaconda3\\lib\\site-packages (from yfinance) (2.32.3)\n",
      "Collecting multitasking>=0.0.7 (from yfinance)\n",
      "  Using cached multitasking-0.0.11-py3-none-any.whl.metadata (5.5 kB)\n",
      "Requirement already satisfied: platformdirs>=2.0.0 in c:\\users\\admin\\anaconda3\\lib\\site-packages (from yfinance) (3.10.0)\n",
      "Requirement already satisfied: pytz>=2022.5 in c:\\users\\admin\\anaconda3\\lib\\site-packages (from yfinance) (2024.1)\n",
      "Requirement already satisfied: frozendict>=2.3.4 in c:\\users\\admin\\anaconda3\\lib\\site-packages (from yfinance) (2.4.2)\n",
      "Collecting peewee>=3.16.2 (from yfinance)\n",
      "  Using cached peewee-3.17.9-py3-none-any.whl\n",
      "Requirement already satisfied: beautifulsoup4>=4.11.1 in c:\\users\\admin\\anaconda3\\lib\\site-packages (from yfinance) (4.12.3)\n",
      "Requirement already satisfied: soupsieve>1.2 in c:\\users\\admin\\anaconda3\\lib\\site-packages (from beautifulsoup4>=4.11.1->yfinance) (2.5)\n",
      "Requirement already satisfied: python-dateutil>=2.8.2 in c:\\users\\admin\\anaconda3\\lib\\site-packages (from pandas>=1.3.0->yfinance) (2.9.0.post0)\n",
      "Requirement already satisfied: tzdata>=2022.7 in c:\\users\\admin\\anaconda3\\lib\\site-packages (from pandas>=1.3.0->yfinance) (2023.3)\n",
      "Requirement already satisfied: charset-normalizer<4,>=2 in c:\\users\\admin\\anaconda3\\lib\\site-packages (from requests>=2.31->yfinance) (3.3.2)\n",
      "Requirement already satisfied: idna<4,>=2.5 in c:\\users\\admin\\anaconda3\\lib\\site-packages (from requests>=2.31->yfinance) (3.7)\n",
      "Requirement already satisfied: urllib3<3,>=1.21.1 in c:\\users\\admin\\anaconda3\\lib\\site-packages (from requests>=2.31->yfinance) (2.2.3)\n",
      "Requirement already satisfied: certifi>=2017.4.17 in c:\\users\\admin\\anaconda3\\lib\\site-packages (from requests>=2.31->yfinance) (2024.12.14)\n",
      "Requirement already satisfied: six>=1.5 in c:\\users\\admin\\anaconda3\\lib\\site-packages (from python-dateutil>=2.8.2->pandas>=1.3.0->yfinance) (1.16.0)\n",
      "Using cached yfinance-0.2.55-py2.py3-none-any.whl (109 kB)\n",
      "Using cached multitasking-0.0.11-py3-none-any.whl (8.5 kB)\n",
      "Installing collected packages: peewee, multitasking, yfinance\n",
      "Successfully installed multitasking-0.0.11 peewee-3.17.9 yfinance-0.2.55\n"
     ]
    }
   ],
   "source": [
    "!pip install yfinance"
   ]
  },
  {
   "cell_type": "code",
   "execution_count": 5,
   "id": "e040935d-bd16-42c1-b986-695b3b2587e0",
   "metadata": {},
   "outputs": [],
   "source": [
    "import numpy as np\n",
    "import pandas as pd\n",
    "import matplotlib.pyplot as plt\n",
    "import yfinance as yf"
   ]
  },
  {
   "cell_type": "code",
   "execution_count": 7,
   "id": "1a2fed30-02e2-46a3-b365-3eb87bdc0b0d",
   "metadata": {},
   "outputs": [
    {
     "name": "stdout",
     "output_type": "stream",
     "text": [
      "YF.download() has changed argument auto_adjust default to True\n"
     ]
    },
    {
     "name": "stderr",
     "output_type": "stream",
     "text": [
      "[*********************100%***********************]  1 of 1 completed\n"
     ]
    }
   ],
   "source": [
    "start='2015-01-01'\n",
    "end='2024-12-31'\n",
    "stock='GOOG'\n",
    "\n",
    "data=yf.download(stock,start,end)"
   ]
  },
  {
   "cell_type": "code",
   "execution_count": 9,
   "id": "c50f0a1f-a9fb-4bcc-bc83-9e5135690712",
   "metadata": {},
   "outputs": [
    {
     "data": {
      "text/html": [
       "<div>\n",
       "<style scoped>\n",
       "    .dataframe tbody tr th:only-of-type {\n",
       "        vertical-align: middle;\n",
       "    }\n",
       "\n",
       "    .dataframe tbody tr th {\n",
       "        vertical-align: top;\n",
       "    }\n",
       "\n",
       "    .dataframe thead tr th {\n",
       "        text-align: left;\n",
       "    }\n",
       "\n",
       "    .dataframe thead tr:last-of-type th {\n",
       "        text-align: right;\n",
       "    }\n",
       "</style>\n",
       "<table border=\"1\" class=\"dataframe\">\n",
       "  <thead>\n",
       "    <tr>\n",
       "      <th>Price</th>\n",
       "      <th>Close</th>\n",
       "      <th>High</th>\n",
       "      <th>Low</th>\n",
       "      <th>Open</th>\n",
       "      <th>Volume</th>\n",
       "    </tr>\n",
       "    <tr>\n",
       "      <th>Ticker</th>\n",
       "      <th>GOOG</th>\n",
       "      <th>GOOG</th>\n",
       "      <th>GOOG</th>\n",
       "      <th>GOOG</th>\n",
       "      <th>GOOG</th>\n",
       "    </tr>\n",
       "    <tr>\n",
       "      <th>Date</th>\n",
       "      <th></th>\n",
       "      <th></th>\n",
       "      <th></th>\n",
       "      <th></th>\n",
       "      <th></th>\n",
       "    </tr>\n",
       "  </thead>\n",
       "  <tbody>\n",
       "    <tr>\n",
       "      <th>2015-01-02</th>\n",
       "      <td>26.045290</td>\n",
       "      <td>26.365888</td>\n",
       "      <td>26.010055</td>\n",
       "      <td>26.253728</td>\n",
       "      <td>28951268</td>\n",
       "    </tr>\n",
       "    <tr>\n",
       "      <th>2015-01-05</th>\n",
       "      <td>25.502361</td>\n",
       "      <td>26.021471</td>\n",
       "      <td>25.462164</td>\n",
       "      <td>25.968368</td>\n",
       "      <td>41196796</td>\n",
       "    </tr>\n",
       "    <tr>\n",
       "      <th>2015-01-06</th>\n",
       "      <td>24.911293</td>\n",
       "      <td>25.616757</td>\n",
       "      <td>24.866133</td>\n",
       "      <td>25.558443</td>\n",
       "      <td>57998800</td>\n",
       "    </tr>\n",
       "    <tr>\n",
       "      <th>2015-01-07</th>\n",
       "      <td>24.868610</td>\n",
       "      <td>25.173524</td>\n",
       "      <td>24.796649</td>\n",
       "      <td>25.161415</td>\n",
       "      <td>41301082</td>\n",
       "    </tr>\n",
       "    <tr>\n",
       "      <th>2015-01-08</th>\n",
       "      <td>24.947023</td>\n",
       "      <td>24.986726</td>\n",
       "      <td>24.367368</td>\n",
       "      <td>24.714268</td>\n",
       "      <td>67071641</td>\n",
       "    </tr>\n",
       "    <tr>\n",
       "      <th>...</th>\n",
       "      <td>...</td>\n",
       "      <td>...</td>\n",
       "      <td>...</td>\n",
       "      <td>...</td>\n",
       "      <td>...</td>\n",
       "    </tr>\n",
       "    <tr>\n",
       "      <th>2024-12-23</th>\n",
       "      <td>195.766968</td>\n",
       "      <td>196.266399</td>\n",
       "      <td>191.411929</td>\n",
       "      <td>193.809192</td>\n",
       "      <td>15235900</td>\n",
       "    </tr>\n",
       "    <tr>\n",
       "      <th>2024-12-24</th>\n",
       "      <td>197.345184</td>\n",
       "      <td>197.445061</td>\n",
       "      <td>194.975874</td>\n",
       "      <td>195.946768</td>\n",
       "      <td>6809800</td>\n",
       "    </tr>\n",
       "    <tr>\n",
       "      <th>2024-12-26</th>\n",
       "      <td>196.875717</td>\n",
       "      <td>197.934509</td>\n",
       "      <td>195.647106</td>\n",
       "      <td>196.516126</td>\n",
       "      <td>7907900</td>\n",
       "    </tr>\n",
       "    <tr>\n",
       "      <th>2024-12-27</th>\n",
       "      <td>193.819183</td>\n",
       "      <td>196.576052</td>\n",
       "      <td>191.753543</td>\n",
       "      <td>196.246426</td>\n",
       "      <td>14693000</td>\n",
       "    </tr>\n",
       "    <tr>\n",
       "      <th>2024-12-30</th>\n",
       "      <td>192.470734</td>\n",
       "      <td>193.559490</td>\n",
       "      <td>190.143383</td>\n",
       "      <td>190.647813</td>\n",
       "      <td>12209500</td>\n",
       "    </tr>\n",
       "  </tbody>\n",
       "</table>\n",
       "<p>2515 rows × 5 columns</p>\n",
       "</div>"
      ],
      "text/plain": [
       "Price            Close        High         Low        Open    Volume\n",
       "Ticker            GOOG        GOOG        GOOG        GOOG      GOOG\n",
       "Date                                                                \n",
       "2015-01-02   26.045290   26.365888   26.010055   26.253728  28951268\n",
       "2015-01-05   25.502361   26.021471   25.462164   25.968368  41196796\n",
       "2015-01-06   24.911293   25.616757   24.866133   25.558443  57998800\n",
       "2015-01-07   24.868610   25.173524   24.796649   25.161415  41301082\n",
       "2015-01-08   24.947023   24.986726   24.367368   24.714268  67071641\n",
       "...                ...         ...         ...         ...       ...\n",
       "2024-12-23  195.766968  196.266399  191.411929  193.809192  15235900\n",
       "2024-12-24  197.345184  197.445061  194.975874  195.946768   6809800\n",
       "2024-12-26  196.875717  197.934509  195.647106  196.516126   7907900\n",
       "2024-12-27  193.819183  196.576052  191.753543  196.246426  14693000\n",
       "2024-12-30  192.470734  193.559490  190.143383  190.647813  12209500\n",
       "\n",
       "[2515 rows x 5 columns]"
      ]
     },
     "execution_count": 9,
     "metadata": {},
     "output_type": "execute_result"
    }
   ],
   "source": [
    "data"
   ]
  },
  {
   "cell_type": "code",
   "execution_count": 11,
   "id": "92b5d7c4-9ec3-48f8-8d06-387eb0e573f3",
   "metadata": {},
   "outputs": [],
   "source": [
    "data.reset_index(inplace=True)"
   ]
  },
  {
   "cell_type": "code",
   "execution_count": 13,
   "id": "97428521-2aeb-4572-af1c-4639f48518dd",
   "metadata": {},
   "outputs": [
    {
     "data": {
      "text/html": [
       "<div>\n",
       "<style scoped>\n",
       "    .dataframe tbody tr th:only-of-type {\n",
       "        vertical-align: middle;\n",
       "    }\n",
       "\n",
       "    .dataframe tbody tr th {\n",
       "        vertical-align: top;\n",
       "    }\n",
       "\n",
       "    .dataframe thead tr th {\n",
       "        text-align: left;\n",
       "    }\n",
       "</style>\n",
       "<table border=\"1\" class=\"dataframe\">\n",
       "  <thead>\n",
       "    <tr>\n",
       "      <th>Price</th>\n",
       "      <th>Date</th>\n",
       "      <th>Close</th>\n",
       "      <th>High</th>\n",
       "      <th>Low</th>\n",
       "      <th>Open</th>\n",
       "      <th>Volume</th>\n",
       "    </tr>\n",
       "    <tr>\n",
       "      <th>Ticker</th>\n",
       "      <th></th>\n",
       "      <th>GOOG</th>\n",
       "      <th>GOOG</th>\n",
       "      <th>GOOG</th>\n",
       "      <th>GOOG</th>\n",
       "      <th>GOOG</th>\n",
       "    </tr>\n",
       "  </thead>\n",
       "  <tbody>\n",
       "    <tr>\n",
       "      <th>0</th>\n",
       "      <td>2015-01-02</td>\n",
       "      <td>26.045290</td>\n",
       "      <td>26.365888</td>\n",
       "      <td>26.010055</td>\n",
       "      <td>26.253728</td>\n",
       "      <td>28951268</td>\n",
       "    </tr>\n",
       "    <tr>\n",
       "      <th>1</th>\n",
       "      <td>2015-01-05</td>\n",
       "      <td>25.502361</td>\n",
       "      <td>26.021471</td>\n",
       "      <td>25.462164</td>\n",
       "      <td>25.968368</td>\n",
       "      <td>41196796</td>\n",
       "    </tr>\n",
       "    <tr>\n",
       "      <th>2</th>\n",
       "      <td>2015-01-06</td>\n",
       "      <td>24.911293</td>\n",
       "      <td>25.616757</td>\n",
       "      <td>24.866133</td>\n",
       "      <td>25.558443</td>\n",
       "      <td>57998800</td>\n",
       "    </tr>\n",
       "    <tr>\n",
       "      <th>3</th>\n",
       "      <td>2015-01-07</td>\n",
       "      <td>24.868610</td>\n",
       "      <td>25.173524</td>\n",
       "      <td>24.796649</td>\n",
       "      <td>25.161415</td>\n",
       "      <td>41301082</td>\n",
       "    </tr>\n",
       "    <tr>\n",
       "      <th>4</th>\n",
       "      <td>2015-01-08</td>\n",
       "      <td>24.947023</td>\n",
       "      <td>24.986726</td>\n",
       "      <td>24.367368</td>\n",
       "      <td>24.714268</td>\n",
       "      <td>67071641</td>\n",
       "    </tr>\n",
       "    <tr>\n",
       "      <th>...</th>\n",
       "      <td>...</td>\n",
       "      <td>...</td>\n",
       "      <td>...</td>\n",
       "      <td>...</td>\n",
       "      <td>...</td>\n",
       "      <td>...</td>\n",
       "    </tr>\n",
       "    <tr>\n",
       "      <th>2510</th>\n",
       "      <td>2024-12-23</td>\n",
       "      <td>195.766968</td>\n",
       "      <td>196.266399</td>\n",
       "      <td>191.411929</td>\n",
       "      <td>193.809192</td>\n",
       "      <td>15235900</td>\n",
       "    </tr>\n",
       "    <tr>\n",
       "      <th>2511</th>\n",
       "      <td>2024-12-24</td>\n",
       "      <td>197.345184</td>\n",
       "      <td>197.445061</td>\n",
       "      <td>194.975874</td>\n",
       "      <td>195.946768</td>\n",
       "      <td>6809800</td>\n",
       "    </tr>\n",
       "    <tr>\n",
       "      <th>2512</th>\n",
       "      <td>2024-12-26</td>\n",
       "      <td>196.875717</td>\n",
       "      <td>197.934509</td>\n",
       "      <td>195.647106</td>\n",
       "      <td>196.516126</td>\n",
       "      <td>7907900</td>\n",
       "    </tr>\n",
       "    <tr>\n",
       "      <th>2513</th>\n",
       "      <td>2024-12-27</td>\n",
       "      <td>193.819183</td>\n",
       "      <td>196.576052</td>\n",
       "      <td>191.753543</td>\n",
       "      <td>196.246426</td>\n",
       "      <td>14693000</td>\n",
       "    </tr>\n",
       "    <tr>\n",
       "      <th>2514</th>\n",
       "      <td>2024-12-30</td>\n",
       "      <td>192.470734</td>\n",
       "      <td>193.559490</td>\n",
       "      <td>190.143383</td>\n",
       "      <td>190.647813</td>\n",
       "      <td>12209500</td>\n",
       "    </tr>\n",
       "  </tbody>\n",
       "</table>\n",
       "<p>2515 rows × 6 columns</p>\n",
       "</div>"
      ],
      "text/plain": [
       "Price        Date       Close        High         Low        Open    Volume\n",
       "Ticker                   GOOG        GOOG        GOOG        GOOG      GOOG\n",
       "0      2015-01-02   26.045290   26.365888   26.010055   26.253728  28951268\n",
       "1      2015-01-05   25.502361   26.021471   25.462164   25.968368  41196796\n",
       "2      2015-01-06   24.911293   25.616757   24.866133   25.558443  57998800\n",
       "3      2015-01-07   24.868610   25.173524   24.796649   25.161415  41301082\n",
       "4      2015-01-08   24.947023   24.986726   24.367368   24.714268  67071641\n",
       "...           ...         ...         ...         ...         ...       ...\n",
       "2510   2024-12-23  195.766968  196.266399  191.411929  193.809192  15235900\n",
       "2511   2024-12-24  197.345184  197.445061  194.975874  195.946768   6809800\n",
       "2512   2024-12-26  196.875717  197.934509  195.647106  196.516126   7907900\n",
       "2513   2024-12-27  193.819183  196.576052  191.753543  196.246426  14693000\n",
       "2514   2024-12-30  192.470734  193.559490  190.143383  190.647813  12209500\n",
       "\n",
       "[2515 rows x 6 columns]"
      ]
     },
     "execution_count": 13,
     "metadata": {},
     "output_type": "execute_result"
    }
   ],
   "source": [
    "data"
   ]
  },
  {
   "cell_type": "code",
   "execution_count": 15,
   "id": "7d89be2c-ef94-4bec-8b28-fded30eceeed",
   "metadata": {},
   "outputs": [],
   "source": [
    "ma_100_day=data.Close.rolling(100).mean()"
   ]
  },
  {
   "cell_type": "code",
   "execution_count": 17,
   "id": "9b429ec2-cda9-44b9-a932-9c9c89ec1b3a",
   "metadata": {},
   "outputs": [
    {
     "data": {
      "image/png": "[encoded data removed]",
      "text/plain": [
       "<Figure size 800x600 with 1 Axes>"
      ]
     },
     "metadata": {},
     "output_type": "display_data"
    }
   ],
   "source": [
    "plt.figure(figsize=(8,6))\n",
    "plt.plot(ma_100_day,'r')\n",
    "plt.plot(data.Close,'g')\n",
    "plt.show()"
   ]
  },
  {
   "cell_type": "code",
   "execution_count": 19,
   "id": "da737a74-779e-4d80-9f83-7c1551cb0fb8",
   "metadata": {},
   "outputs": [],
   "source": [
    "ma_200_day=data.Close.rolling(200).mean()"
   ]
  },
  {
   "cell_type": "code",
   "execution_count": 23,
   "id": "25b9fe5a-da24-44f2-8daa-3fb2a1c610ab",
   "metadata": {},
   "outputs": [
    {
     "data": {
      "image/png": "[encoded data removed]",
      "text/plain": [
       "<Figure size 800x600 with 1 Axes>"
      ]
     },
     "metadata": {},
     "output_type": "display_data"
    }
   ],
   "source": [
    "plt.figure(figsize=(8,6))\n",
    "plt.plot(ma_100_day,'r')\n",
    "plt.plot(ma_200_day,'b')\n",
    "plt.plot(data.Close,'g')\n",
    "plt.show()"
   ]
  },
  {
   "cell_type": "code",
   "execution_count": 25,
   "id": "6b590f90-62c9-42b1-b6b5-4f4bf226b55b",
   "metadata": {},
   "outputs": [],
   "source": [
    "data.dropna(inplace=True)"
   ]
  },
  {
   "cell_type": "code",
   "execution_count": 31,
   "id": "355e9fa9-f219-43b8-a936-3c343b82728f",
   "metadata": {},
   "outputs": [],
   "source": [
    "data_train=pd.DataFrame(data.Close[0:int(len(data)*0.80)])\n",
    "data_test=pd.DataFrame(data.Close[int(len(data)*0.80):len(data)])"
   ]
  },
  {
   "cell_type": "code",
   "execution_count": 33,
   "id": "62c1b4e2-d68d-454f-a845-8f840d64c2b9",
   "metadata": {},
   "outputs": [
    {
     "data": {
      "text/plain": [
       "2012"
      ]
     },
     "execution_count": 33,
     "metadata": {},
     "output_type": "execute_result"
    }
   ],
   "source": [
    "data_train.shape[0]"
   ]
  },
  {
   "cell_type": "code",
   "execution_count": 35,
   "id": "bf910cd3-f83d-4545-bd94-b244f918826e",
   "metadata": {},
   "outputs": [
    {
     "data": {
      "text/plain": [
       "503"
      ]
     },
     "execution_count": 35,
     "metadata": {},
     "output_type": "execute_result"
    }
   ],
   "source": [
    "data_test.shape[0]"
   ]
  },
  {
   "cell_type": "code",
   "execution_count": 41,
   "id": "17225b2d-07b0-4cc0-961e-1e16b81288d2",
   "metadata": {},
   "outputs": [
    {
     "name": "stdout",
     "output_type": "stream",
     "text": [
      "Requirement already satisfied: scikit-learn in c:\\users\\admin\\anaconda3\\lib\\site-packages (1.5.1)\n",
      "Requirement already satisfied: numpy>=1.19.5 in c:\\users\\admin\\anaconda3\\lib\\site-packages (from scikit-learn) (1.26.4)\n",
      "Requirement already satisfied: scipy>=1.6.0 in c:\\users\\admin\\anaconda3\\lib\\site-packages (from scikit-learn) (1.13.1)\n",
      "Requirement already satisfied: joblib>=1.2.0 in c:\\users\\admin\\anaconda3\\lib\\site-packages (from scikit-learn) (1.4.2)\n",
      "Requirement already satisfied: threadpoolctl>=3.1.0 in c:\\users\\admin\\anaconda3\\lib\\site-packages (from scikit-learn) (3.5.0)\n"
     ]
    }
   ],
   "source": [
    "!pip install scikit-learn"
   ]
  },
  {
   "cell_type": "code",
   "execution_count": 45,
   "id": "7e1c5379-92dd-4099-bfcf-7691fd91e4e9",
   "metadata": {},
   "outputs": [],
   "source": [
    "from sklearn.preprocessing import MinMaxScaler\n",
    "scaler=MinMaxScaler(feature_range=(0,1))"
   ]
  },
  {
   "cell_type": "code",
   "execution_count": null,
   "id": "b0279a74-81f2-4e03-9e31-7cfd806c926d",
   "metadata": {},
   "outputs": [],
   "source": []
  },
  {
   "cell_type": "code",
   "execution_count": 49,
   "id": "f78d8d4c-e4e9-4a4e-aa67-ca868d6afd39",
   "metadata": {},
   "outputs": [],
   "source": [
    "data_train_scale=scaler.fit_transform(data_train)"
   ]
  },
  {
   "cell_type": "code",
   "execution_count": 53,
   "id": "822281cb-a2d7-4f23-9796-c4d81fbae001",
   "metadata": {},
   "outputs": [],
   "source": [
    "x,y=[],[]\n",
    "for i in range(100, data_train_scale.shape[0]):\n",
    "    x.append(data_train_scale[i-100:i])\n",
    "    y.append(data_train_scale[i,0])"
   ]
  },
  {
   "cell_type": "code",
   "execution_count": null,
   "id": "9f569622-77bf-4b20-ac87-b143f535c0dc",
   "metadata": {},
   "outputs": [],
   "source": [
    "x1\n",
    "for i in range(100, data_train_scale.shape[0]):\n",
    "    x.append(data_train[i-100:i])\n",
    "    y.append(data_train[i,0])"
   ]
  },
  {
   "cell_type": "code",
   "execution_count": 57,
   "id": "4de586d0-1171-4395-ab17-2b1cc2c9cfc3",
   "metadata": {
    "scrolled": true
   },
   "outputs": [
    {
     "name": "stdout",
     "output_type": "stream",
     "text": [
      "Collecting keras\n",
      "  Downloading keras-3.9.2-py3-none-any.whl.metadata (6.1 kB)\n",
      "Collecting absl-py (from keras)\n",
      "  Downloading absl_py-2.2.2-py3-none-any.whl.metadata (2.6 kB)\n",
      "Requirement already satisfied: numpy in c:\\users\\admin\\anaconda3\\lib\\site-packages (from keras) (1.26.4)\n",
      "Requirement already satisfied: rich in c:\\users\\admin\\anaconda3\\lib\\site-packages (from keras) (13.7.1)\n",
      "Collecting namex (from keras)\n",
      "  Downloading namex-0.0.8-py3-none-any.whl.metadata (246 bytes)\n",
      "Requirement already satisfied: h5py in c:\\users\\admin\\anaconda3\\lib\\site-packages (from keras) (3.11.0)\n",
      "Collecting optree (from keras)\n",
      "  Downloading optree-0.15.0-cp312-cp312-win_amd64.whl.metadata (49 kB)\n",
      "Collecting ml-dtypes (from keras)\n",
      "  Downloading ml_dtypes-0.5.1-cp312-cp312-win_amd64.whl.metadata (22 kB)\n",
      "Requirement already satisfied: packaging in c:\\users\\admin\\anaconda3\\lib\\site-packages (from keras) (24.1)\n",
      "Requirement already satisfied: typing-extensions>=4.5.0 in c:\\users\\admin\\anaconda3\\lib\\site-packages (from optree->keras) (4.11.0)\n",
      "Requirement already satisfied: markdown-it-py>=2.2.0 in c:\\users\\admin\\anaconda3\\lib\\site-packages (from rich->keras) (2.2.0)\n",
      "Requirement already satisfied: pygments<3.0.0,>=2.13.0 in c:\\users\\admin\\anaconda3\\lib\\site-packages (from rich->keras) (2.15.1)\n",
      "Requirement already satisfied: mdurl~=0.1 in c:\\users\\admin\\anaconda3\\lib\\site-packages (from markdown-it-py>=2.2.0->rich->keras) (0.1.0)\n",
      "Downloading keras-3.9.2-py3-none-any.whl (1.3 MB)\n",
      "   ---------------------------------------- 0.0/1.3 MB ? eta -:--:--\n",
      "   ----------------------- ---------------- 0.8/1.3 MB 4.8 MB/s eta 0:00:01\n",
      "   ---------------------------------------- 1.3/1.3 MB 4.1 MB/s eta 0:00:00\n",
      "Downloading absl_py-2.2.2-py3-none-any.whl (135 kB)\n",
      "Downloading ml_dtypes-0.5.1-cp312-cp312-win_amd64.whl (210 kB)\n",
      "Downloading namex-0.0.8-py3-none-any.whl (5.8 kB)\n",
      "Downloading optree-0.15.0-cp312-cp312-win_amd64.whl (307 kB)\n",
      "Installing collected packages: namex, optree, ml-dtypes, absl-py, keras\n",
      "Successfully installed absl-py-2.2.2 keras-3.9.2 ml-dtypes-0.5.1 namex-0.0.8 optree-0.15.0\n"
     ]
    }
   ],
   "source": [
    "!pip install keras"
   ]
  },
  {
   "cell_type": "code",
   "execution_count": 61,
   "id": "c18d2363-20fc-46c7-8e8a-9cae9e6b873d",
   "metadata": {
    "scrolled": true
   },
   "outputs": [
    {
     "name": "stdout",
     "output_type": "stream",
     "text": [
      "Collecting tensorflow\n",
      "  Downloading tensorflow-2.19.0-cp312-cp312-win_amd64.whl.metadata (4.1 kB)\n",
      "Requirement already satisfied: absl-py>=1.0.0 in c:\\users\\admin\\anaconda3\\lib\\site-packages (from tensorflow) (2.2.2)\n",
      "Collecting astunparse>=1.6.0 (from tensorflow)\n",
      "  Downloading astunparse-1.6.3-py2.py3-none-any.whl.metadata (4.4 kB)\n",
      "Collecting flatbuffers>=24.3.25 (from tensorflow)\n",
      "  Downloading flatbuffers-25.2.10-py2.py3-none-any.whl.metadata (875 bytes)\n",
      "Collecting gast!=0.5.0,!=0.5.1,!=0.5.2,>=0.2.1 (from tensorflow)\n",
      "  Downloading gast-0.6.0-py3-none-any.whl.metadata (1.3 kB)\n",
      "Collecting google-pasta>=0.1.1 (from tensorflow)\n",
      "  Downloading google_pasta-0.2.0-py3-none-any.whl.metadata (814 bytes)\n",
      "Collecting libclang>=13.0.0 (from tensorflow)\n",
      "  Downloading libclang-18.1.1-py2.py3-none-win_amd64.whl.metadata (5.3 kB)\n",
      "Collecting opt-einsum>=2.3.2 (from tensorflow)\n",
      "  Downloading opt_einsum-3.4.0-py3-none-any.whl.metadata (6.3 kB)\n",
      "Requirement already satisfied: packaging in c:\\users\\admin\\anaconda3\\lib\\site-packages (from tensorflow) (24.1)\n",
      "Requirement already satisfied: protobuf!=4.21.0,!=4.21.1,!=4.21.2,!=4.21.3,!=4.21.4,!=4.21.5,<6.0.0dev,>=3.20.3 in c:\\users\\admin\\anaconda3\\lib\\site-packages (from tensorflow) (4.25.3)\n",
      "Requirement already satisfied: requests<3,>=2.21.0 in c:\\users\\admin\\anaconda3\\lib\\site-packages (from tensorflow) (2.32.3)\n",
      "Requirement already satisfied: setuptools in c:\\users\\admin\\anaconda3\\lib\\site-packages (from tensorflow) (75.1.0)\n",
      "Requirement already satisfied: six>=1.12.0 in c:\\users\\admin\\anaconda3\\lib\\site-packages (from tensorflow) (1.16.0)\n",
      "Collecting termcolor>=1.1.0 (from tensorflow)\n",
      "  Downloading termcolor-3.0.1-py3-none-any.whl.metadata (6.1 kB)\n",
      "Requirement already satisfied: typing-extensions>=3.6.6 in c:\\users\\admin\\anaconda3\\lib\\site-packages (from tensorflow) (4.11.0)\n",
      "Requirement already satisfied: wrapt>=1.11.0 in c:\\users\\admin\\anaconda3\\lib\\site-packages (from tensorflow) (1.14.1)\n",
      "Collecting grpcio<2.0,>=1.24.3 (from tensorflow)\n",
      "  Downloading grpcio-1.71.0-cp312-cp312-win_amd64.whl.metadata (4.0 kB)\n",
      "Collecting tensorboard~=2.19.0 (from tensorflow)\n",
      "  Downloading tensorboard-2.19.0-py3-none-any.whl.metadata (1.8 kB)\n",
      "Requirement already satisfied: keras>=3.5.0 in c:\\users\\admin\\anaconda3\\lib\\site-packages (from tensorflow) (3.9.2)\n",
      "Requirement already satisfied: numpy<2.2.0,>=1.26.0 in c:\\users\\admin\\anaconda3\\lib\\site-packages (from tensorflow) (1.26.4)\n",
      "Requirement already satisfied: h5py>=3.11.0 in c:\\users\\admin\\anaconda3\\lib\\site-packages (from tensorflow) (3.11.0)\n",
      "Requirement already satisfied: ml-dtypes<1.0.0,>=0.5.1 in c:\\users\\admin\\anaconda3\\lib\\site-packages (from tensorflow) (0.5.1)\n",
      "Requirement already satisfied: wheel<1.0,>=0.23.0 in c:\\users\\admin\\anaconda3\\lib\\site-packages (from astunparse>=1.6.0->tensorflow) (0.44.0)\n",
      "Requirement already satisfied: rich in c:\\users\\admin\\anaconda3\\lib\\site-packages (from keras>=3.5.0->tensorflow) (13.7.1)\n",
      "Requirement already satisfied: namex in c:\\users\\admin\\anaconda3\\lib\\site-packages (from keras>=3.5.0->tensorflow) (0.0.8)\n",
      "Requirement already satisfied: optree in c:\\users\\admin\\anaconda3\\lib\\site-packages (from keras>=3.5.0->tensorflow) (0.15.0)\n",
      "Requirement already satisfied: charset-normalizer<4,>=2 in c:\\users\\admin\\anaconda3\\lib\\site-packages (from requests<3,>=2.21.0->tensorflow) (3.3.2)\n",
      "Requirement already satisfied: idna<4,>=2.5 in c:\\users\\admin\\anaconda3\\lib\\site-packages (from requests<3,>=2.21.0->tensorflow) (3.7)\n",
      "Requirement already satisfied: urllib3<3,>=1.21.1 in c:\\users\\admin\\anaconda3\\lib\\site-packages (from requests<3,>=2.21.0->tensorflow) (2.2.3)\n",
      "Requirement already satisfied: certifi>=2017.4.17 in c:\\users\\admin\\anaconda3\\lib\\site-packages (from requests<3,>=2.21.0->tensorflow) (2024.12.14)\n",
      "Requirement already satisfied: markdown>=2.6.8 in c:\\users\\admin\\anaconda3\\lib\\site-packages (from tensorboard~=2.19.0->tensorflow) (3.4.1)\n",
      "Collecting tensorboard-data-server<0.8.0,>=0.7.0 (from tensorboard~=2.19.0->tensorflow)\n",
      "  Downloading tensorboard_data_server-0.7.2-py3-none-any.whl.metadata (1.1 kB)\n",
      "Requirement already satisfied: werkzeug>=1.0.1 in c:\\users\\admin\\anaconda3\\lib\\site-packages (from tensorboard~=2.19.0->tensorflow) (3.0.3)\n",
      "Requirement already satisfied: MarkupSafe>=2.1.1 in c:\\users\\admin\\anaconda3\\lib\\site-packages (from werkzeug>=1.0.1->tensorboard~=2.19.0->tensorflow) (2.1.3)\n",
      "Requirement already satisfied: markdown-it-py>=2.2.0 in c:\\users\\admin\\anaconda3\\lib\\site-packages (from rich->keras>=3.5.0->tensorflow) (2.2.0)\n",
      "Requirement already satisfied: pygments<3.0.0,>=2.13.0 in c:\\users\\admin\\anaconda3\\lib\\site-packages (from rich->keras>=3.5.0->tensorflow) (2.15.1)\n",
      "Requirement already satisfied: mdurl~=0.1 in c:\\users\\admin\\anaconda3\\lib\\site-packages (from markdown-it-py>=2.2.0->rich->keras>=3.5.0->tensorflow) (0.1.0)\n",
      "Downloading tensorflow-2.19.0-cp312-cp312-win_amd64.whl (376.0 MB)\n",
      "   ---------------------------------------- 0.0/376.0 MB ? eta -:--:--\n",
      "   ---------------------------------------- 0.5/376.0 MB 4.2 MB/s eta 0:01:29\n",
      "   ---------------------------------------- 1.8/376.0 MB 5.3 MB/s eta 0:01:11\n",
      "   ---------------------------------------- 2.9/376.0 MB 5.4 MB/s eta 0:01:09\n",
      "   ---------------------------------------- 3.9/376.0 MB 5.3 MB/s eta 0:01:10\n",
      "    --------------------------------------- 5.2/376.0 MB 5.2 MB/s eta 0:01:11\n",
      "    --------------------------------------- 6.3/376.0 MB 5.2 MB/s eta 0:01:11\n",
      "    --------------------------------------- 7.3/376.0 MB 5.3 MB/s eta 0:01:10\n",
      "    --------------------------------------- 8.7/376.0 MB 5.3 MB/s eta 0:01:10\n",
      "   - -------------------------------------- 9.7/376.0 MB 5.3 MB/s eta 0:01:10\n",
      "   - -------------------------------------- 10.7/376.0 MB 5.3 MB/s eta 0:01:10\n",
      "   - -------------------------------------- 12.1/376.0 MB 5.3 MB/s eta 0:01:09\n",
      "   - -------------------------------------- 13.1/376.0 MB 5.3 MB/s eta 0:01:09\n",
      "   - -------------------------------------- 14.4/376.0 MB 5.3 MB/s eta 0:01:08\n",
      "   - -------------------------------------- 15.5/376.0 MB 5.3 MB/s eta 0:01:08\n",
      "   - -------------------------------------- 16.8/376.0 MB 5.3 MB/s eta 0:01:08\n",
      "   - -------------------------------------- 17.8/376.0 MB 5.3 MB/s eta 0:01:08\n",
      "   -- ------------------------------------- 18.9/376.0 MB 5.3 MB/s eta 0:01:08\n",
      "   -- ------------------------------------- 20.2/376.0 MB 5.4 MB/s eta 0:01:07\n",
      "   -- ------------------------------------- 21.2/376.0 MB 5.3 MB/s eta 0:01:07\n",
      "   -- ------------------------------------- 22.5/376.0 MB 5.3 MB/s eta 0:01:07\n",
      "   -- ------------------------------------- 23.6/376.0 MB 5.4 MB/s eta 0:01:06\n",
      "   -- ------------------------------------- 24.9/376.0 MB 5.4 MB/s eta 0:01:06\n",
      "   -- ------------------------------------- 26.0/376.0 MB 5.4 MB/s eta 0:01:06\n",
      "   -- ------------------------------------- 27.0/376.0 MB 5.4 MB/s eta 0:01:06\n",
      "   --- ------------------------------------ 28.3/376.0 MB 5.4 MB/s eta 0:01:05\n",
      "   --- ------------------------------------ 29.6/376.0 MB 5.4 MB/s eta 0:01:05\n",
      "   --- ------------------------------------ 30.7/376.0 MB 5.4 MB/s eta 0:01:05\n",
      "   --- ------------------------------------ 31.7/376.0 MB 5.4 MB/s eta 0:01:04\n",
      "   --- ------------------------------------ 33.0/376.0 MB 5.4 MB/s eta 0:01:04\n",
      "   --- ------------------------------------ 34.1/376.0 MB 5.4 MB/s eta 0:01:04\n",
      "   --- ------------------------------------ 35.1/376.0 MB 5.4 MB/s eta 0:01:04\n",
      "   --- ------------------------------------ 36.4/376.0 MB 5.4 MB/s eta 0:01:04\n",
      "   --- ------------------------------------ 37.5/376.0 MB 5.4 MB/s eta 0:01:04\n",
      "   ---- ----------------------------------- 38.5/376.0 MB 5.3 MB/s eta 0:01:04\n",
      "   ---- ----------------------------------- 39.6/376.0 MB 5.3 MB/s eta 0:01:03\n",
      "   ---- ----------------------------------- 40.6/376.0 MB 5.3 MB/s eta 0:01:03\n",
      "   ---- ----------------------------------- 41.9/376.0 MB 5.3 MB/s eta 0:01:03\n",
      "   ---- ----------------------------------- 43.0/376.0 MB 5.3 MB/s eta 0:01:03\n",
      "   ---- ----------------------------------- 44.0/376.0 MB 5.3 MB/s eta 0:01:03\n",
      "   ---- ----------------------------------- 45.4/376.0 MB 5.3 MB/s eta 0:01:02\n",
      "   ---- ----------------------------------- 46.4/376.0 MB 5.3 MB/s eta 0:01:02\n",
      "   ----- ---------------------------------- 47.4/376.0 MB 5.3 MB/s eta 0:01:02\n",
      "   ----- ---------------------------------- 48.5/376.0 MB 5.3 MB/s eta 0:01:02\n",
      "   ----- ---------------------------------- 49.8/376.0 MB 5.3 MB/s eta 0:01:02\n",
      "   ----- ---------------------------------- 50.9/376.0 MB 5.3 MB/s eta 0:01:02\n",
      "   ----- ---------------------------------- 51.9/376.0 MB 5.3 MB/s eta 0:01:01\n",
      "   ----- ---------------------------------- 53.2/376.0 MB 5.3 MB/s eta 0:01:01\n",
      "   ----- ---------------------------------- 54.3/376.0 MB 5.3 MB/s eta 0:01:01\n",
      "   ----- ---------------------------------- 55.6/376.0 MB 5.3 MB/s eta 0:01:01\n",
      "   ------ --------------------------------- 56.6/376.0 MB 5.3 MB/s eta 0:01:00\n",
      "   ------ --------------------------------- 57.7/376.0 MB 5.3 MB/s eta 0:01:00\n",
      "   ------ --------------------------------- 59.0/376.0 MB 5.3 MB/s eta 0:01:00\n",
      "   ------ --------------------------------- 59.8/376.0 MB 5.3 MB/s eta 0:01:00\n",
      "   ------ --------------------------------- 61.1/376.0 MB 5.3 MB/s eta 0:01:00\n",
      "   ------ --------------------------------- 62.4/376.0 MB 5.3 MB/s eta 0:00:59\n",
      "   ------ --------------------------------- 63.4/376.0 MB 5.3 MB/s eta 0:00:59\n",
      "   ------ --------------------------------- 64.7/376.0 MB 5.3 MB/s eta 0:00:59\n",
      "   ------- -------------------------------- 65.8/376.0 MB 5.3 MB/s eta 0:00:59\n",
      "   ------- -------------------------------- 66.8/376.0 MB 5.3 MB/s eta 0:00:59\n",
      "   ------- -------------------------------- 67.9/376.0 MB 5.3 MB/s eta 0:00:58\n",
      "   ------- -------------------------------- 68.9/376.0 MB 5.3 MB/s eta 0:00:58\n",
      "   ------- -------------------------------- 70.3/376.0 MB 5.3 MB/s eta 0:00:58\n",
      "   ------- -------------------------------- 71.3/376.0 MB 5.3 MB/s eta 0:00:58\n",
      "   ------- -------------------------------- 72.4/376.0 MB 5.3 MB/s eta 0:00:58\n",
      "   ------- -------------------------------- 73.7/376.0 MB 5.3 MB/s eta 0:00:57\n",
      "   ------- -------------------------------- 75.0/376.0 MB 5.3 MB/s eta 0:00:57\n",
      "   -------- ------------------------------- 76.0/376.0 MB 5.3 MB/s eta 0:00:57\n",
      "   -------- ------------------------------- 77.3/376.0 MB 5.3 MB/s eta 0:00:56\n",
      "   -------- ------------------------------- 78.4/376.0 MB 5.3 MB/s eta 0:00:56\n",
      "   -------- ------------------------------- 79.7/376.0 MB 5.3 MB/s eta 0:00:56\n",
      "   -------- ------------------------------- 80.7/376.0 MB 5.3 MB/s eta 0:00:56\n",
      "   -------- ------------------------------- 81.8/376.0 MB 5.3 MB/s eta 0:00:56\n",
      "   -------- ------------------------------- 83.1/376.0 MB 5.3 MB/s eta 0:00:55\n",
      "   -------- ------------------------------- 84.1/376.0 MB 5.3 MB/s eta 0:00:55\n",
      "   --------- ------------------------------ 85.2/376.0 MB 5.3 MB/s eta 0:00:55\n",
      "   --------- ------------------------------ 86.2/376.0 MB 5.3 MB/s eta 0:00:55\n",
      "   --------- ------------------------------ 87.3/376.0 MB 5.3 MB/s eta 0:00:55\n",
      "   --------- ------------------------------ 88.3/376.0 MB 5.3 MB/s eta 0:00:54\n",
      "   --------- ------------------------------ 89.4/376.0 MB 5.3 MB/s eta 0:00:54\n",
      "   --------- ------------------------------ 90.2/376.0 MB 5.3 MB/s eta 0:00:54\n",
      "   --------- ------------------------------ 91.5/376.0 MB 5.3 MB/s eta 0:00:54\n",
      "   --------- ------------------------------ 92.5/376.0 MB 5.3 MB/s eta 0:00:54\n",
      "   --------- ------------------------------ 93.6/376.0 MB 5.3 MB/s eta 0:00:53\n",
      "   ---------- ----------------------------- 94.9/376.0 MB 5.3 MB/s eta 0:00:53\n",
      "   ---------- ----------------------------- 95.9/376.0 MB 5.3 MB/s eta 0:00:53\n",
      "   ---------- ----------------------------- 97.0/376.0 MB 5.3 MB/s eta 0:00:53\n",
      "   ---------- ----------------------------- 98.0/376.0 MB 5.3 MB/s eta 0:00:53\n",
      "   ---------- ----------------------------- 99.4/376.0 MB 5.3 MB/s eta 0:00:52\n",
      "   ---------- ----------------------------- 100.4/376.0 MB 5.3 MB/s eta 0:00:52\n",
      "   ---------- ----------------------------- 101.4/376.0 MB 5.3 MB/s eta 0:00:52\n",
      "   ---------- ----------------------------- 102.8/376.0 MB 5.3 MB/s eta 0:00:52\n",
      "   ----------- ---------------------------- 103.8/376.0 MB 5.3 MB/s eta 0:00:51\n",
      "   ----------- ---------------------------- 104.9/376.0 MB 5.3 MB/s eta 0:00:51\n",
      "   ----------- ---------------------------- 105.9/376.0 MB 5.3 MB/s eta 0:00:51\n",
      "   ----------- ---------------------------- 107.2/376.0 MB 5.3 MB/s eta 0:00:51\n",
      "   ----------- ---------------------------- 108.5/376.0 MB 5.4 MB/s eta 0:00:50\n",
      "   ----------- ---------------------------- 109.6/376.0 MB 5.4 MB/s eta 0:00:50\n",
      "   ----------- ---------------------------- 110.9/376.0 MB 5.4 MB/s eta 0:00:50\n",
      "   ----------- ---------------------------- 111.7/376.0 MB 5.3 MB/s eta 0:00:50\n",
      "   ----------- ---------------------------- 112.7/376.0 MB 5.3 MB/s eta 0:00:50\n",
      "   ------------ --------------------------- 113.8/376.0 MB 5.3 MB/s eta 0:00:50\n",
      "   ------------ --------------------------- 114.8/376.0 MB 5.3 MB/s eta 0:00:49\n",
      "   ------------ --------------------------- 115.9/376.0 MB 5.3 MB/s eta 0:00:49\n",
      "   ------------ --------------------------- 116.9/376.0 MB 5.3 MB/s eta 0:00:49\n",
      "   ------------ --------------------------- 118.2/376.0 MB 5.3 MB/s eta 0:00:49\n",
      "   ------------ --------------------------- 119.3/376.0 MB 5.3 MB/s eta 0:00:49\n",
      "   ------------ --------------------------- 120.6/376.0 MB 5.3 MB/s eta 0:00:48\n",
      "   ------------ --------------------------- 121.6/376.0 MB 5.3 MB/s eta 0:00:48\n",
      "   ------------- -------------------------- 122.4/376.0 MB 5.3 MB/s eta 0:00:48\n",
      "   ------------- -------------------------- 123.7/376.0 MB 5.3 MB/s eta 0:00:48\n",
      "   ------------- -------------------------- 124.8/376.0 MB 5.3 MB/s eta 0:00:48\n",
      "   ------------- -------------------------- 125.8/376.0 MB 5.3 MB/s eta 0:00:47\n",
      "   ------------- -------------------------- 127.1/376.0 MB 5.3 MB/s eta 0:00:47\n",
      "   ------------- -------------------------- 127.9/376.0 MB 5.3 MB/s eta 0:00:47\n",
      "   ------------- -------------------------- 129.2/376.0 MB 5.3 MB/s eta 0:00:47\n",
      "   ------------- -------------------------- 130.3/376.0 MB 5.3 MB/s eta 0:00:47\n",
      "   ------------- -------------------------- 131.3/376.0 MB 5.3 MB/s eta 0:00:47\n",
      "   -------------- ------------------------- 132.4/376.0 MB 5.3 MB/s eta 0:00:46\n",
      "   -------------- ------------------------- 133.2/376.0 MB 5.3 MB/s eta 0:00:46\n",
      "   -------------- ------------------------- 134.0/376.0 MB 5.3 MB/s eta 0:00:46\n",
      "   -------------- ------------------------- 134.5/376.0 MB 5.3 MB/s eta 0:00:46\n",
      "   -------------- ------------------------- 135.0/376.0 MB 5.2 MB/s eta 0:00:47\n",
      "   -------------- ------------------------- 135.5/376.0 MB 5.2 MB/s eta 0:00:47\n",
      "   -------------- ------------------------- 136.3/376.0 MB 5.2 MB/s eta 0:00:47\n",
      "   -------------- ------------------------- 137.4/376.0 MB 5.2 MB/s eta 0:00:46\n",
      "   -------------- ------------------------- 138.7/376.0 MB 5.2 MB/s eta 0:00:46\n",
      "   -------------- ------------------------- 139.7/376.0 MB 5.2 MB/s eta 0:00:46\n",
      "   --------------- ------------------------ 141.0/376.0 MB 5.2 MB/s eta 0:00:46\n",
      "   --------------- ------------------------ 142.3/376.0 MB 5.2 MB/s eta 0:00:45\n",
      "   --------------- ------------------------ 143.4/376.0 MB 5.2 MB/s eta 0:00:45\n",
      "   --------------- ------------------------ 144.4/376.0 MB 5.2 MB/s eta 0:00:45\n",
      "   --------------- ------------------------ 145.8/376.0 MB 5.2 MB/s eta 0:00:45\n",
      "   --------------- ------------------------ 146.8/376.0 MB 5.2 MB/s eta 0:00:44\n",
      "   --------------- ------------------------ 148.1/376.0 MB 5.2 MB/s eta 0:00:44\n",
      "   --------------- ------------------------ 149.2/376.0 MB 5.2 MB/s eta 0:00:44\n",
      "   ---------------- ----------------------- 150.5/376.0 MB 5.2 MB/s eta 0:00:44\n",
      "   ---------------- ----------------------- 151.5/376.0 MB 5.2 MB/s eta 0:00:43\n",
      "   ---------------- ----------------------- 152.8/376.0 MB 5.2 MB/s eta 0:00:43\n",
      "   ---------------- ----------------------- 153.9/376.0 MB 5.2 MB/s eta 0:00:43\n",
      "   ---------------- ----------------------- 154.9/376.0 MB 5.2 MB/s eta 0:00:43\n",
      "   ---------------- ----------------------- 156.2/376.0 MB 5.2 MB/s eta 0:00:43\n",
      "   ---------------- ----------------------- 157.3/376.0 MB 5.2 MB/s eta 0:00:42\n",
      "   ---------------- ----------------------- 158.6/376.0 MB 5.2 MB/s eta 0:00:42\n",
      "   ---------------- ----------------------- 159.6/376.0 MB 5.2 MB/s eta 0:00:42\n",
      "   ----------------- ---------------------- 161.0/376.0 MB 5.2 MB/s eta 0:00:42\n",
      "   ----------------- ---------------------- 162.0/376.0 MB 5.2 MB/s eta 0:00:41\n",
      "   ----------------- ---------------------- 163.3/376.0 MB 5.2 MB/s eta 0:00:41\n",
      "   ----------------- ---------------------- 164.4/376.0 MB 5.2 MB/s eta 0:00:41\n",
      "   ----------------- ---------------------- 165.7/376.0 MB 5.2 MB/s eta 0:00:41\n",
      "   ----------------- ---------------------- 166.7/376.0 MB 5.2 MB/s eta 0:00:40\n",
      "   ----------------- ---------------------- 168.0/376.0 MB 5.2 MB/s eta 0:00:40\n",
      "   ----------------- ---------------------- 169.1/376.0 MB 5.2 MB/s eta 0:00:40\n",
      "   ------------------ --------------------- 170.4/376.0 MB 5.2 MB/s eta 0:00:40\n",
      "   ------------------ --------------------- 171.2/376.0 MB 5.2 MB/s eta 0:00:40\n",
      "   ------------------ --------------------- 172.5/376.0 MB 5.2 MB/s eta 0:00:39\n",
      "   ------------------ --------------------- 173.8/376.0 MB 5.2 MB/s eta 0:00:39\n",
      "   ------------------ --------------------- 174.9/376.0 MB 5.2 MB/s eta 0:00:39\n",
      "   ------------------ --------------------- 175.9/376.0 MB 5.2 MB/s eta 0:00:39\n",
      "   ------------------ --------------------- 176.9/376.0 MB 5.2 MB/s eta 0:00:39\n",
      "   ------------------ --------------------- 178.0/376.0 MB 5.2 MB/s eta 0:00:38\n",
      "   ------------------- -------------------- 179.0/376.0 MB 5.2 MB/s eta 0:00:38\n",
      "   ------------------- -------------------- 180.4/376.0 MB 5.2 MB/s eta 0:00:38\n",
      "   ------------------- -------------------- 181.4/376.0 MB 5.2 MB/s eta 0:00:38\n",
      "   ------------------- -------------------- 182.7/376.0 MB 5.2 MB/s eta 0:00:37\n",
      "   ------------------- -------------------- 183.8/376.0 MB 5.2 MB/s eta 0:00:37\n",
      "   ------------------- -------------------- 185.1/376.0 MB 5.2 MB/s eta 0:00:37\n",
      "   ------------------- -------------------- 186.4/376.0 MB 5.2 MB/s eta 0:00:37\n",
      "   ------------------- -------------------- 187.4/376.0 MB 5.2 MB/s eta 0:00:36\n",
      "   -------------------- ------------------- 188.7/376.0 MB 5.2 MB/s eta 0:00:36\n",
      "   -------------------- ------------------- 190.1/376.0 MB 5.2 MB/s eta 0:00:36\n",
      "   -------------------- ------------------- 191.1/376.0 MB 5.2 MB/s eta 0:00:36\n",
      "   -------------------- ------------------- 191.9/376.0 MB 5.2 MB/s eta 0:00:36\n",
      "   -------------------- ------------------- 192.9/376.0 MB 5.2 MB/s eta 0:00:36\n",
      "   -------------------- ------------------- 194.2/376.0 MB 5.2 MB/s eta 0:00:35\n",
      "   -------------------- ------------------- 195.3/376.0 MB 5.2 MB/s eta 0:00:35\n",
      "   -------------------- ------------------- 196.3/376.0 MB 5.2 MB/s eta 0:00:35\n",
      "   --------------------- ------------------ 197.7/376.0 MB 5.2 MB/s eta 0:00:35\n",
      "   --------------------- ------------------ 198.7/376.0 MB 5.2 MB/s eta 0:00:34\n",
      "   --------------------- ------------------ 199.8/376.0 MB 5.2 MB/s eta 0:00:34\n",
      "   --------------------- ------------------ 201.1/376.0 MB 5.2 MB/s eta 0:00:34\n",
      "   --------------------- ------------------ 202.4/376.0 MB 5.3 MB/s eta 0:00:34\n",
      "   --------------------- ------------------ 203.4/376.0 MB 5.3 MB/s eta 0:00:33\n",
      "   --------------------- ------------------ 204.7/376.0 MB 5.3 MB/s eta 0:00:33\n",
      "   --------------------- ------------------ 205.8/376.0 MB 5.3 MB/s eta 0:00:33\n",
      "   ---------------------- ----------------- 207.1/376.0 MB 5.3 MB/s eta 0:00:33\n",
      "   ---------------------- ----------------- 208.1/376.0 MB 5.3 MB/s eta 0:00:32\n",
      "   ---------------------- ----------------- 209.2/376.0 MB 5.3 MB/s eta 0:00:32\n",
      "   ---------------------- ----------------- 210.2/376.0 MB 5.3 MB/s eta 0:00:32\n",
      "   ---------------------- ----------------- 211.3/376.0 MB 5.3 MB/s eta 0:00:32\n",
      "   ---------------------- ----------------- 212.3/376.0 MB 5.3 MB/s eta 0:00:32\n",
      "   ---------------------- ----------------- 213.1/376.0 MB 5.2 MB/s eta 0:00:32\n",
      "   ---------------------- ----------------- 214.2/376.0 MB 5.2 MB/s eta 0:00:31\n",
      "   ---------------------- ----------------- 215.2/376.0 MB 5.2 MB/s eta 0:00:31\n",
      "   ---------------------- ----------------- 216.0/376.0 MB 5.2 MB/s eta 0:00:31\n",
      "   ----------------------- ---------------- 217.3/376.0 MB 5.2 MB/s eta 0:00:31\n",
      "   ----------------------- ---------------- 218.4/376.0 MB 5.2 MB/s eta 0:00:31\n",
      "   ----------------------- ---------------- 219.4/376.0 MB 5.2 MB/s eta 0:00:30\n",
      "   ----------------------- ---------------- 220.5/376.0 MB 5.2 MB/s eta 0:00:30\n",
      "   ----------------------- ---------------- 221.5/376.0 MB 5.2 MB/s eta 0:00:30\n",
      "   ----------------------- ---------------- 222.6/376.0 MB 5.2 MB/s eta 0:00:30\n",
      "   ----------------------- ---------------- 223.6/376.0 MB 5.2 MB/s eta 0:00:30\n",
      "   ----------------------- ---------------- 224.7/376.0 MB 5.2 MB/s eta 0:00:29\n",
      "   ------------------------ --------------- 225.7/376.0 MB 5.2 MB/s eta 0:00:29\n",
      "   ------------------------ --------------- 226.8/376.0 MB 5.2 MB/s eta 0:00:29\n",
      "   ------------------------ --------------- 227.8/376.0 MB 5.2 MB/s eta 0:00:29\n",
      "   ------------------------ --------------- 229.1/376.0 MB 5.2 MB/s eta 0:00:29\n",
      "   ------------------------ --------------- 230.2/376.0 MB 5.2 MB/s eta 0:00:28\n",
      "   ------------------------ --------------- 231.2/376.0 MB 5.2 MB/s eta 0:00:28\n",
      "   ------------------------ --------------- 232.5/376.0 MB 5.2 MB/s eta 0:00:28\n",
      "   ------------------------ --------------- 233.6/376.0 MB 5.2 MB/s eta 0:00:28\n",
      "   ------------------------ --------------- 234.6/376.0 MB 5.2 MB/s eta 0:00:28\n",
      "   ------------------------- -------------- 235.7/376.0 MB 5.2 MB/s eta 0:00:27\n",
      "   ------------------------- -------------- 237.0/376.0 MB 5.2 MB/s eta 0:00:27\n",
      "   ------------------------- -------------- 238.0/376.0 MB 5.2 MB/s eta 0:00:27\n",
      "   ------------------------- -------------- 239.3/376.0 MB 5.2 MB/s eta 0:00:27\n",
      "   ------------------------- -------------- 240.4/376.0 MB 5.2 MB/s eta 0:00:26\n",
      "   ------------------------- -------------- 241.7/376.0 MB 5.2 MB/s eta 0:00:26\n",
      "   ------------------------- -------------- 242.7/376.0 MB 5.2 MB/s eta 0:00:26\n",
      "   ------------------------- -------------- 244.1/376.0 MB 5.2 MB/s eta 0:00:26\n",
      "   -------------------------- ------------- 245.1/376.0 MB 5.2 MB/s eta 0:00:25\n",
      "   -------------------------- ------------- 246.4/376.0 MB 5.2 MB/s eta 0:00:25\n",
      "   -------------------------- ------------- 247.7/376.0 MB 5.3 MB/s eta 0:00:25\n",
      "   -------------------------- ------------- 248.8/376.0 MB 5.3 MB/s eta 0:00:25\n",
      "   -------------------------- ------------- 250.1/376.0 MB 5.3 MB/s eta 0:00:24\n",
      "   -------------------------- ------------- 251.1/376.0 MB 5.3 MB/s eta 0:00:24\n",
      "   -------------------------- ------------- 252.4/376.0 MB 5.3 MB/s eta 0:00:24\n",
      "   -------------------------- ------------- 253.8/376.0 MB 5.3 MB/s eta 0:00:24\n",
      "   --------------------------- ------------ 254.8/376.0 MB 5.3 MB/s eta 0:00:24\n",
      "   --------------------------- ------------ 256.1/376.0 MB 5.3 MB/s eta 0:00:23\n",
      "   --------------------------- ------------ 257.2/376.0 MB 5.3 MB/s eta 0:00:23\n",
      "   --------------------------- ------------ 258.5/376.0 MB 5.3 MB/s eta 0:00:23\n",
      "   --------------------------- ------------ 259.5/376.0 MB 5.3 MB/s eta 0:00:23\n",
      "   --------------------------- ------------ 260.6/376.0 MB 5.3 MB/s eta 0:00:22\n",
      "   --------------------------- ------------ 261.1/376.0 MB 5.3 MB/s eta 0:00:22\n",
      "   --------------------------- ------------ 262.1/376.0 MB 5.3 MB/s eta 0:00:22\n",
      "   --------------------------- ------------ 262.7/376.0 MB 5.2 MB/s eta 0:00:22\n",
      "   ---------------------------- ----------- 263.2/376.0 MB 5.2 MB/s eta 0:00:22\n",
      "   ---------------------------- ----------- 264.0/376.0 MB 5.2 MB/s eta 0:00:22\n",
      "   ---------------------------- ----------- 264.5/376.0 MB 5.2 MB/s eta 0:00:22\n",
      "   ---------------------------- ----------- 265.3/376.0 MB 5.2 MB/s eta 0:00:22\n",
      "   ---------------------------- ----------- 266.1/376.0 MB 5.2 MB/s eta 0:00:22\n",
      "   ---------------------------- ----------- 266.9/376.0 MB 5.1 MB/s eta 0:00:22\n",
      "   ---------------------------- ----------- 267.9/376.0 MB 5.1 MB/s eta 0:00:22\n",
      "   ---------------------------- ----------- 269.0/376.0 MB 5.1 MB/s eta 0:00:21\n",
      "   ---------------------------- ----------- 270.0/376.0 MB 5.1 MB/s eta 0:00:21\n",
      "   ---------------------------- ----------- 271.1/376.0 MB 5.1 MB/s eta 0:00:21\n",
      "   ---------------------------- ----------- 272.4/376.0 MB 5.1 MB/s eta 0:00:21\n",
      "   ----------------------------- ---------- 273.4/376.0 MB 5.1 MB/s eta 0:00:20\n",
      "   ----------------------------- ---------- 274.5/376.0 MB 5.1 MB/s eta 0:00:20\n",
      "   ----------------------------- ---------- 275.5/376.0 MB 5.1 MB/s eta 0:00:20\n",
      "   ----------------------------- ---------- 276.6/376.0 MB 5.1 MB/s eta 0:00:20\n",
      "   ----------------------------- ---------- 277.6/376.0 MB 5.1 MB/s eta 0:00:20\n",
      "   ----------------------------- ---------- 278.7/376.0 MB 5.1 MB/s eta 0:00:19\n",
      "   ----------------------------- ---------- 279.7/376.0 MB 5.2 MB/s eta 0:00:19\n",
      "   ----------------------------- ---------- 280.8/376.0 MB 5.1 MB/s eta 0:00:19\n",
      "   ----------------------------- ---------- 281.8/376.0 MB 5.1 MB/s eta 0:00:19\n",
      "   ------------------------------ --------- 282.6/376.0 MB 5.1 MB/s eta 0:00:19\n",
      "   ------------------------------ --------- 283.4/376.0 MB 5.1 MB/s eta 0:00:19\n",
      "   ------------------------------ --------- 284.2/376.0 MB 5.1 MB/s eta 0:00:18\n",
      "   ------------------------------ --------- 285.2/376.0 MB 5.1 MB/s eta 0:00:18\n",
      "   ------------------------------ --------- 286.5/376.0 MB 5.1 MB/s eta 0:00:18\n",
      "   ------------------------------ --------- 287.3/376.0 MB 5.1 MB/s eta 0:00:18\n",
      "   ------------------------------ --------- 288.4/376.0 MB 5.2 MB/s eta 0:00:17\n",
      "   ------------------------------ --------- 289.7/376.0 MB 5.2 MB/s eta 0:00:17\n",
      "   ------------------------------ --------- 290.5/376.0 MB 5.2 MB/s eta 0:00:17\n",
      "   ------------------------------- -------- 291.5/376.0 MB 5.2 MB/s eta 0:00:17\n",
      "   ------------------------------- -------- 292.6/376.0 MB 5.2 MB/s eta 0:00:17\n",
      "   ------------------------------- -------- 293.6/376.0 MB 5.2 MB/s eta 0:00:16\n",
      "   ------------------------------- -------- 294.6/376.0 MB 5.2 MB/s eta 0:00:16\n",
      "   ------------------------------- -------- 296.0/376.0 MB 5.2 MB/s eta 0:00:16\n",
      "   ------------------------------- -------- 297.0/376.0 MB 5.2 MB/s eta 0:00:16\n",
      "   ------------------------------- -------- 298.3/376.0 MB 5.2 MB/s eta 0:00:15\n",
      "   ------------------------------- -------- 299.4/376.0 MB 5.2 MB/s eta 0:00:15\n",
      "   ------------------------------- -------- 300.7/376.0 MB 5.2 MB/s eta 0:00:15\n",
      "   -------------------------------- ------- 301.7/376.0 MB 5.2 MB/s eta 0:00:15\n",
      "   -------------------------------- ------- 302.8/376.0 MB 5.2 MB/s eta 0:00:15\n",
      "   -------------------------------- ------- 304.1/376.0 MB 5.2 MB/s eta 0:00:14\n",
      "   -------------------------------- ------- 305.1/376.0 MB 5.2 MB/s eta 0:00:14\n",
      "   -------------------------------- ------- 306.2/376.0 MB 5.2 MB/s eta 0:00:14\n",
      "   -------------------------------- ------- 307.2/376.0 MB 5.2 MB/s eta 0:00:14\n",
      "   -------------------------------- ------- 308.5/376.0 MB 5.2 MB/s eta 0:00:13\n",
      "   -------------------------------- ------- 309.6/376.0 MB 5.2 MB/s eta 0:00:13\n",
      "   --------------------------------- ------ 310.4/376.0 MB 5.2 MB/s eta 0:00:13\n",
      "   --------------------------------- ------ 311.2/376.0 MB 5.2 MB/s eta 0:00:13\n",
      "   --------------------------------- ------ 311.7/376.0 MB 5.2 MB/s eta 0:00:13\n",
      "   --------------------------------- ------ 312.5/376.0 MB 5.1 MB/s eta 0:00:13\n",
      "   --------------------------------- ------ 313.5/376.0 MB 5.1 MB/s eta 0:00:13\n",
      "   --------------------------------- ------ 314.6/376.0 MB 5.1 MB/s eta 0:00:12\n",
      "   --------------------------------- ------ 315.4/376.0 MB 5.1 MB/s eta 0:00:12\n",
      "   --------------------------------- ------ 316.7/376.0 MB 5.1 MB/s eta 0:00:12\n",
      "   --------------------------------- ------ 317.7/376.0 MB 5.1 MB/s eta 0:00:12\n",
      "   --------------------------------- ------ 318.5/376.0 MB 5.1 MB/s eta 0:00:12\n",
      "   ---------------------------------- ----- 319.8/376.0 MB 5.1 MB/s eta 0:00:11\n",
      "   ---------------------------------- ----- 320.9/376.0 MB 5.1 MB/s eta 0:00:11\n",
      "   ---------------------------------- ----- 322.2/376.0 MB 5.1 MB/s eta 0:00:11\n",
      "   ---------------------------------- ----- 323.2/376.0 MB 5.1 MB/s eta 0:00:11\n",
      "   ---------------------------------- ----- 324.5/376.0 MB 5.1 MB/s eta 0:00:11\n",
      "   ---------------------------------- ----- 325.6/376.0 MB 5.1 MB/s eta 0:00:10\n",
      "   ---------------------------------- ----- 325.8/376.0 MB 5.1 MB/s eta 0:00:10\n",
      "   ---------------------------------- ----- 326.6/376.0 MB 5.1 MB/s eta 0:00:10\n",
      "   ---------------------------------- ----- 327.4/376.0 MB 5.1 MB/s eta 0:00:10\n",
      "   ---------------------------------- ----- 328.5/376.0 MB 5.1 MB/s eta 0:00:10\n",
      "   ----------------------------------- ---- 329.8/376.0 MB 5.1 MB/s eta 0:00:10\n",
      "   ----------------------------------- ---- 330.8/376.0 MB 5.1 MB/s eta 0:00:09\n",
      "   ----------------------------------- ---- 332.1/376.0 MB 5.1 MB/s eta 0:00:09\n",
      "   ----------------------------------- ---- 333.2/376.0 MB 5.1 MB/s eta 0:00:09\n",
      "   ----------------------------------- ---- 334.5/376.0 MB 5.1 MB/s eta 0:00:09\n",
      "   ----------------------------------- ---- 335.5/376.0 MB 5.1 MB/s eta 0:00:08\n",
      "   ----------------------------------- ---- 336.9/376.0 MB 5.1 MB/s eta 0:00:08\n",
      "   ----------------------------------- ---- 337.4/376.0 MB 5.1 MB/s eta 0:00:08\n",
      "   ------------------------------------ --- 338.7/376.0 MB 5.1 MB/s eta 0:00:08\n",
      "   ------------------------------------ --- 340.0/376.0 MB 5.1 MB/s eta 0:00:08\n",
      "   ------------------------------------ --- 341.3/376.0 MB 5.1 MB/s eta 0:00:07\n",
      "   ------------------------------------ --- 342.4/376.0 MB 5.1 MB/s eta 0:00:07\n",
      "   ------------------------------------ --- 343.1/376.0 MB 5.1 MB/s eta 0:00:07\n",
      "   ------------------------------------ --- 343.7/376.0 MB 5.1 MB/s eta 0:00:07\n",
      "   ------------------------------------ --- 344.7/376.0 MB 5.0 MB/s eta 0:00:07\n",
      "   ------------------------------------ --- 345.2/376.0 MB 5.0 MB/s eta 0:00:07\n",
      "   ------------------------------------ --- 346.0/376.0 MB 5.0 MB/s eta 0:00:06\n",
      "   ------------------------------------ --- 346.6/376.0 MB 5.0 MB/s eta 0:00:06\n",
      "   ------------------------------------ --- 347.1/376.0 MB 5.0 MB/s eta 0:00:06\n",
      "   ------------------------------------- -- 347.9/376.0 MB 5.0 MB/s eta 0:00:06\n",
      "   ------------------------------------- -- 348.1/376.0 MB 4.9 MB/s eta 0:00:06\n",
      "   ------------------------------------- -- 348.7/376.0 MB 4.9 MB/s eta 0:00:06\n",
      "   ------------------------------------- -- 349.2/376.0 MB 4.9 MB/s eta 0:00:06\n",
      "   ------------------------------------- -- 350.0/376.0 MB 4.9 MB/s eta 0:00:06\n",
      "   ------------------------------------- -- 351.0/376.0 MB 4.9 MB/s eta 0:00:06\n",
      "   ------------------------------------- -- 352.1/376.0 MB 4.9 MB/s eta 0:00:05\n",
      "   ------------------------------------- -- 353.1/376.0 MB 4.8 MB/s eta 0:00:05\n",
      "   ------------------------------------- -- 354.2/376.0 MB 4.8 MB/s eta 0:00:05\n",
      "   ------------------------------------- -- 355.2/376.0 MB 4.8 MB/s eta 0:00:05\n",
      "   ------------------------------------- -- 356.0/376.0 MB 4.8 MB/s eta 0:00:05\n",
      "   ------------------------------------- -- 356.5/376.0 MB 4.8 MB/s eta 0:00:05\n",
      "   -------------------------------------- - 357.3/376.0 MB 4.8 MB/s eta 0:00:04\n",
      "   -------------------------------------- - 357.8/376.0 MB 4.8 MB/s eta 0:00:04\n",
      "   -------------------------------------- - 358.6/376.0 MB 4.8 MB/s eta 0:00:04\n",
      "   -------------------------------------- - 358.9/376.0 MB 4.8 MB/s eta 0:00:04\n",
      "   -------------------------------------- - 359.7/376.0 MB 4.8 MB/s eta 0:00:04\n",
      "   -------------------------------------- - 361.0/376.0 MB 4.8 MB/s eta 0:00:04\n",
      "   -------------------------------------- - 362.0/376.0 MB 4.8 MB/s eta 0:00:03\n",
      "   -------------------------------------- - 363.1/376.0 MB 4.8 MB/s eta 0:00:03\n",
      "   -------------------------------------- - 364.4/376.0 MB 4.8 MB/s eta 0:00:03\n",
      "   -------------------------------------- - 365.4/376.0 MB 4.8 MB/s eta 0:00:03\n",
      "   -------------------------------------- - 366.5/376.0 MB 4.8 MB/s eta 0:00:02\n",
      "   ---------------------------------------  367.8/376.0 MB 4.8 MB/s eta 0:00:02\n",
      "   ---------------------------------------  368.8/376.0 MB 4.8 MB/s eta 0:00:02\n",
      "   ---------------------------------------  370.1/376.0 MB 4.8 MB/s eta 0:00:02\n",
      "   ---------------------------------------  370.9/376.0 MB 4.8 MB/s eta 0:00:02\n",
      "   ---------------------------------------  372.2/376.0 MB 4.8 MB/s eta 0:00:01\n",
      "   ---------------------------------------  373.3/376.0 MB 4.8 MB/s eta 0:00:01\n",
      "   ---------------------------------------  374.6/376.0 MB 4.8 MB/s eta 0:00:01\n",
      "   ---------------------------------------  375.4/376.0 MB 4.8 MB/s eta 0:00:01\n",
      "   ---------------------------------------  375.9/376.0 MB 4.8 MB/s eta 0:00:01\n",
      "   ---------------------------------------  375.9/376.0 MB 4.8 MB/s eta 0:00:01\n",
      "   ---------------------------------------  375.9/376.0 MB 4.8 MB/s eta 0:00:01\n",
      "   ---------------------------------------  375.9/376.0 MB 4.8 MB/s eta 0:00:01\n",
      "   ---------------------------------------  375.9/376.0 MB 4.8 MB/s eta 0:00:01\n",
      "   ---------------------------------------- 376.0/376.0 MB 4.6 MB/s eta 0:00:00\n",
      "Downloading astunparse-1.6.3-py2.py3-none-any.whl (12 kB)\n",
      "Downloading flatbuffers-25.2.10-py2.py3-none-any.whl (30 kB)\n",
      "Downloading gast-0.6.0-py3-none-any.whl (21 kB)\n",
      "Downloading google_pasta-0.2.0-py3-none-any.whl (57 kB)\n",
      "Downloading grpcio-1.71.0-cp312-cp312-win_amd64.whl (4.3 MB)\n",
      "   ---------------------------------------- 0.0/4.3 MB ? eta -:--:--\n",
      "   ------- -------------------------------- 0.8/4.3 MB 4.8 MB/s eta 0:00:01\n",
      "   ------------ --------------------------- 1.3/4.3 MB 3.5 MB/s eta 0:00:01\n",
      "   ------------------- -------------------- 2.1/4.3 MB 3.6 MB/s eta 0:00:01\n",
      "   -------------------------- ------------- 2.9/4.3 MB 3.5 MB/s eta 0:00:01\n",
      "   ----------------------------- ---------- 3.1/4.3 MB 3.5 MB/s eta 0:00:01\n",
      "   ------------------------------- -------- 3.4/4.3 MB 2.7 MB/s eta 0:00:01\n",
      "   ------------------------------- -------- 3.4/4.3 MB 2.7 MB/s eta 0:00:01\n",
      "   ---------------------------------- ----- 3.7/4.3 MB 2.2 MB/s eta 0:00:01\n",
      "   ---------------------------------- ----- 3.7/4.3 MB 2.2 MB/s eta 0:00:01\n",
      "   ---------------------------------- ----- 3.7/4.3 MB 2.2 MB/s eta 0:00:01\n",
      "   ---------------------------------- ----- 3.7/4.3 MB 2.2 MB/s eta 0:00:01\n",
      "   ---------------------------------------- 4.3/4.3 MB 1.7 MB/s eta 0:00:00\n",
      "Downloading libclang-18.1.1-py2.py3-none-win_amd64.whl (26.4 MB)\n",
      "   ---------------------------------------- 0.0/26.4 MB ? eta -:--:--\n",
      "   ---------------------------------------- 0.3/26.4 MB ? eta -:--:--\n",
      "   - -------------------------------------- 1.3/26.4 MB 3.9 MB/s eta 0:00:07\n",
      "   -- ------------------------------------- 1.6/26.4 MB 3.7 MB/s eta 0:00:07\n",
      "   --- ------------------------------------ 2.4/26.4 MB 3.2 MB/s eta 0:00:08\n",
      "   ----- ---------------------------------- 3.4/26.4 MB 3.6 MB/s eta 0:00:07\n",
      "   ------ --------------------------------- 4.5/26.4 MB 3.8 MB/s eta 0:00:06\n",
      "   -------- ------------------------------- 5.8/26.4 MB 4.2 MB/s eta 0:00:05\n",
      "   ---------- ----------------------------- 6.8/26.4 MB 4.3 MB/s eta 0:00:05\n",
      "   ----------- ---------------------------- 7.9/26.4 MB 4.5 MB/s eta 0:00:05\n",
      "   ------------- -------------------------- 9.2/26.4 MB 4.6 MB/s eta 0:00:04\n",
      "   --------------- ------------------------ 10.2/26.4 MB 4.7 MB/s eta 0:00:04\n",
      "   ----------------- ---------------------- 11.5/26.4 MB 4.7 MB/s eta 0:00:04\n",
      "   ------------------- -------------------- 12.6/26.4 MB 4.8 MB/s eta 0:00:03\n",
      "   -------------------- ------------------- 13.6/26.4 MB 4.9 MB/s eta 0:00:03\n",
      "   ---------------------- ----------------- 14.9/26.4 MB 4.9 MB/s eta 0:00:03\n",
      "   ------------------------ --------------- 16.0/26.4 MB 4.9 MB/s eta 0:00:03\n",
      "   ------------------------- -------------- 17.0/26.4 MB 4.9 MB/s eta 0:00:02\n",
      "   --------------------------- ------------ 18.4/26.4 MB 5.0 MB/s eta 0:00:02\n",
      "   ----------------------------- ---------- 19.4/26.4 MB 5.0 MB/s eta 0:00:02\n",
      "   ------------------------------- -------- 20.7/26.4 MB 5.1 MB/s eta 0:00:02\n",
      "   -------------------------------- ------- 21.8/26.4 MB 5.1 MB/s eta 0:00:01\n",
      "   ---------------------------------- ----- 22.8/26.4 MB 5.1 MB/s eta 0:00:01\n",
      "   ------------------------------------ --- 24.1/26.4 MB 5.1 MB/s eta 0:00:01\n",
      "   -------------------------------------- - 25.2/26.4 MB 5.1 MB/s eta 0:00:01\n",
      "   ---------------------------------------  26.2/26.4 MB 5.1 MB/s eta 0:00:01\n",
      "   ---------------------------------------  26.2/26.4 MB 5.1 MB/s eta 0:00:01\n",
      "   ---------------------------------------  26.2/26.4 MB 5.1 MB/s eta 0:00:01\n",
      "   ---------------------------------------  26.2/26.4 MB 5.1 MB/s eta 0:00:01\n",
      "   ---------------------------------------- 26.4/26.4 MB 4.5 MB/s eta 0:00:00\n",
      "Downloading opt_einsum-3.4.0-py3-none-any.whl (71 kB)\n",
      "Downloading tensorboard-2.19.0-py3-none-any.whl (5.5 MB)\n",
      "   ---------------------------------------- 0.0/5.5 MB ? eta -:--:--\n",
      "   ------- -------------------------------- 1.0/5.5 MB 6.3 MB/s eta 0:00:01\n",
      "   ----------------- ---------------------- 2.4/5.5 MB 5.8 MB/s eta 0:00:01\n",
      "   ------------------------ --------------- 3.4/5.5 MB 5.8 MB/s eta 0:00:01\n",
      "   -------------------------------- ------- 4.5/5.5 MB 5.6 MB/s eta 0:00:01\n",
      "   -------------------------------------- - 5.2/5.5 MB 5.5 MB/s eta 0:00:01\n",
      "   -------------------------------------- - 5.2/5.5 MB 5.5 MB/s eta 0:00:01\n",
      "   ---------------------------------------- 5.5/5.5 MB 3.9 MB/s eta 0:00:00\n",
      "Downloading termcolor-3.0.1-py3-none-any.whl (7.2 kB)\n",
      "Downloading tensorboard_data_server-0.7.2-py3-none-any.whl (2.4 kB)\n",
      "Installing collected packages: libclang, flatbuffers, termcolor, tensorboard-data-server, opt-einsum, grpcio, google-pasta, gast, astunparse, tensorboard, tensorflow\n",
      "Successfully installed astunparse-1.6.3 flatbuffers-25.2.10 gast-0.6.0 google-pasta-0.2.0 grpcio-1.71.0 libclang-18.1.1 opt-einsum-3.4.0 tensorboard-2.19.0 tensorboard-data-server-0.7.2 tensorflow-2.19.0 termcolor-3.0.1\n"
     ]
    }
   ],
   "source": [
    "!pip install tensorflow"
   ]
  },
  {
   "cell_type": "code",
   "execution_count": 69,
   "id": "f55f6444-1172-4239-824d-e1e41d5dbd64",
   "metadata": {},
   "outputs": [],
   "source": [
    "x,y=np.array(x),np.array(y)"
   ]
  },
  {
   "cell_type": "code",
   "execution_count": 71,
   "id": "198add4d-405e-44f0-92db-c8c5325fd6ca",
   "metadata": {},
   "outputs": [],
   "source": [
    "from keras.layers import Dense,Dropout,LSTM\n",
    "from keras.models import Sequential"
   ]
  },
  {
   "cell_type": "code",
   "execution_count": 79,
   "id": "a8bd1f8f-6ac3-45e6-bbf4-34a58b6b3ffb",
   "metadata": {},
   "outputs": [],
   "source": [
    "model=Sequential()\n",
    "model.add(LSTM(units=50,activation='relu',return_sequences=True, input_shape=((x.shape[1],1))))\n",
    "model.add(Dropout(0.2))\n",
    "\n",
    "model.add(LSTM(units=60,activation='relu',return_sequences=True))\n",
    "model.add(Dropout(0.3))\n",
    "\n",
    "model.add(LSTM(units=80,activation='relu',return_sequences=True))\n",
    "model.add(Dropout(0.4))\n",
    "\n",
    "model.add(LSTM(units=120,activation='relu'))\n",
    "model.add(Dropout(0.5))\n",
    "\n",
    "model.add(Dense(units=1))"
   ]
  },
  {
   "cell_type": "code",
   "execution_count": 83,
   "id": "2f4a3c17-70a3-4b64-9968-cc54a63b445e",
   "metadata": {},
   "outputs": [],
   "source": [
    "model.compile(optimizer=\"adam\", loss=\"mean_squared_error\")"
   ]
  },
  {
   "cell_type": "code",
   "execution_count": 85,
   "id": "949c13ac-9656-49f8-9770-e490919fe572",
   "metadata": {},
   "outputs": [
    {
     "name": "stdout",
     "output_type": "stream",
     "text": [
      "Epoch 1/50\n",
      "\u001b[1m60/60\u001b[0m \u001b[32m━━━━━━━━━━━━━━━━━━━━\u001b[0m\u001b[37m\u001b[0m \u001b[1m25s\u001b[0m 176ms/step - loss: 0.0900\n",
      "Epoch 2/50\n",
      "\u001b[1m60/60\u001b[0m \u001b[32m━━━━━━━━━━━━━━━━━━━━\u001b[0m\u001b[37m\u001b[0m \u001b[1m9s\u001b[0m 156ms/step - loss: 0.0112\n",
      "Epoch 3/50\n",
      "\u001b[1m60/60\u001b[0m \u001b[32m━━━━━━━━━━━━━━━━━━━━\u001b[0m\u001b[37m\u001b[0m \u001b[1m11s\u001b[0m 191ms/step - loss: 0.0076\n",
      "Epoch 4/50\n",
      "\u001b[1m60/60\u001b[0m \u001b[32m━━━━━━━━━━━━━━━━━━━━\u001b[0m\u001b[37m\u001b[0m \u001b[1m11s\u001b[0m 182ms/step - loss: 0.0071\n",
      "Epoch 5/50\n",
      "\u001b[1m60/60\u001b[0m \u001b[32m━━━━━━━━━━━━━━━━━━━━\u001b[0m\u001b[37m\u001b[0m \u001b[1m18s\u001b[0m 145ms/step - loss: 0.0057\n",
      "Epoch 6/50\n",
      "\u001b[1m60/60\u001b[0m \u001b[32m━━━━━━━━━━━━━━━━━━━━\u001b[0m\u001b[37m\u001b[0m \u001b[1m10s\u001b[0m 167ms/step - loss: 0.0066\n",
      "Epoch 7/50\n",
      "\u001b[1m60/60\u001b[0m \u001b[32m━━━━━━━━━━━━━━━━━━━━\u001b[0m\u001b[37m\u001b[0m \u001b[1m10s\u001b[0m 161ms/step - loss: 0.0061\n",
      "Epoch 8/50\n",
      "\u001b[1m60/60\u001b[0m \u001b[32m━━━━━━━━━━━━━━━━━━━━\u001b[0m\u001b[37m\u001b[0m \u001b[1m11s\u001b[0m 187ms/step - loss: 0.0063\n",
      "Epoch 9/50\n",
      "\u001b[1m60/60\u001b[0m \u001b[32m━━━━━━━━━━━━━━━━━━━━\u001b[0m\u001b[37m\u001b[0m \u001b[1m10s\u001b[0m 161ms/step - loss: 0.0051\n",
      "Epoch 10/50\n",
      "\u001b[1m60/60\u001b[0m \u001b[32m━━━━━━━━━━━━━━━━━━━━\u001b[0m\u001b[37m\u001b[0m \u001b[1m10s\u001b[0m 160ms/step - loss: 0.0042\n",
      "Epoch 11/50\n",
      "\u001b[1m60/60\u001b[0m \u001b[32m━━━━━━━━━━━━━━━━━━━━\u001b[0m\u001b[37m\u001b[0m \u001b[1m11s\u001b[0m 179ms/step - loss: 0.0046\n",
      "Epoch 12/50\n",
      "\u001b[1m60/60\u001b[0m \u001b[32m━━━━━━━━━━━━━━━━━━━━\u001b[0m\u001b[37m\u001b[0m \u001b[1m10s\u001b[0m 168ms/step - loss: 0.0054\n",
      "Epoch 13/50\n",
      "\u001b[1m60/60\u001b[0m \u001b[32m━━━━━━━━━━━━━━━━━━━━\u001b[0m\u001b[37m\u001b[0m \u001b[1m10s\u001b[0m 158ms/step - loss: 0.0051\n",
      "Epoch 14/50\n",
      "\u001b[1m60/60\u001b[0m \u001b[32m━━━━━━━━━━━━━━━━━━━━\u001b[0m\u001b[37m\u001b[0m \u001b[1m11s\u001b[0m 190ms/step - loss: 0.0037\n",
      "Epoch 15/50\n",
      "\u001b[1m60/60\u001b[0m \u001b[32m━━━━━━━━━━━━━━━━━━━━\u001b[0m\u001b[37m\u001b[0m \u001b[1m10s\u001b[0m 168ms/step - loss: 0.0043\n",
      "Epoch 16/50\n",
      "\u001b[1m60/60\u001b[0m \u001b[32m━━━━━━━━━━━━━━━━━━━━\u001b[0m\u001b[37m\u001b[0m \u001b[1m11s\u001b[0m 188ms/step - loss: 0.0040\n",
      "Epoch 17/50\n",
      "\u001b[1m60/60\u001b[0m \u001b[32m━━━━━━━━━━━━━━━━━━━━\u001b[0m\u001b[37m\u001b[0m \u001b[1m16s\u001b[0m 120ms/step - loss: 0.0041\n",
      "Epoch 18/50\n",
      "\u001b[1m60/60\u001b[0m \u001b[32m━━━━━━━━━━━━━━━━━━━━\u001b[0m\u001b[37m\u001b[0m \u001b[1m9s\u001b[0m 156ms/step - loss: 0.0038\n",
      "Epoch 19/50\n",
      "\u001b[1m60/60\u001b[0m \u001b[32m━━━━━━━━━━━━━━━━━━━━\u001b[0m\u001b[37m\u001b[0m \u001b[1m11s\u001b[0m 190ms/step - loss: 0.0039\n",
      "Epoch 20/50\n",
      "\u001b[1m60/60\u001b[0m \u001b[32m━━━━━━━━━━━━━━━━━━━━\u001b[0m\u001b[37m\u001b[0m \u001b[1m16s\u001b[0m 118ms/step - loss: 0.0030\n",
      "Epoch 21/50\n",
      "\u001b[1m60/60\u001b[0m \u001b[32m━━━━━━━━━━━━━━━━━━━━\u001b[0m\u001b[37m\u001b[0m \u001b[1m11s\u001b[0m 178ms/step - loss: 0.0043\n",
      "Epoch 22/50\n",
      "\u001b[1m60/60\u001b[0m \u001b[32m━━━━━━━━━━━━━━━━━━━━\u001b[0m\u001b[37m\u001b[0m \u001b[1m17s\u001b[0m 119ms/step - loss: 0.0040\n",
      "Epoch 23/50\n",
      "\u001b[1m60/60\u001b[0m \u001b[32m━━━━━━━━━━━━━━━━━━━━\u001b[0m\u001b[37m\u001b[0m \u001b[1m11s\u001b[0m 190ms/step - loss: 0.0035\n",
      "Epoch 24/50\n",
      "\u001b[1m60/60\u001b[0m \u001b[32m━━━━━━━━━━━━━━━━━━━━\u001b[0m\u001b[37m\u001b[0m \u001b[1m11s\u001b[0m 181ms/step - loss: 0.0040\n",
      "Epoch 25/50\n",
      "\u001b[1m60/60\u001b[0m \u001b[32m━━━━━━━━━━━━━━━━━━━━\u001b[0m\u001b[37m\u001b[0m \u001b[1m11s\u001b[0m 180ms/step - loss: 0.0034\n",
      "Epoch 26/50\n",
      "\u001b[1m60/60\u001b[0m \u001b[32m━━━━━━━━━━━━━━━━━━━━\u001b[0m\u001b[37m\u001b[0m \u001b[1m18s\u001b[0m 142ms/step - loss: 0.0028\n",
      "Epoch 27/50\n",
      "\u001b[1m60/60\u001b[0m \u001b[32m━━━━━━━━━━━━━━━━━━━━\u001b[0m\u001b[37m\u001b[0m \u001b[1m9s\u001b[0m 155ms/step - loss: 0.0032\n",
      "Epoch 28/50\n",
      "\u001b[1m60/60\u001b[0m \u001b[32m━━━━━━━━━━━━━━━━━━━━\u001b[0m\u001b[37m\u001b[0m \u001b[1m11s\u001b[0m 183ms/step - loss: 0.0032\n",
      "Epoch 29/50\n",
      "\u001b[1m60/60\u001b[0m \u001b[32m━━━━━━━━━━━━━━━━━━━━\u001b[0m\u001b[37m\u001b[0m \u001b[1m11s\u001b[0m 176ms/step - loss: 0.0034\n",
      "Epoch 30/50\n",
      "\u001b[1m60/60\u001b[0m \u001b[32m━━━━━━━━━━━━━━━━━━━━\u001b[0m\u001b[37m\u001b[0m \u001b[1m9s\u001b[0m 153ms/step - loss: 0.0035\n",
      "Epoch 31/50\n",
      "\u001b[1m60/60\u001b[0m \u001b[32m━━━━━━━━━━━━━━━━━━━━\u001b[0m\u001b[37m\u001b[0m \u001b[1m11s\u001b[0m 181ms/step - loss: 0.0028\n",
      "Epoch 32/50\n",
      "\u001b[1m60/60\u001b[0m \u001b[32m━━━━━━━━━━━━━━━━━━━━\u001b[0m\u001b[37m\u001b[0m \u001b[1m17s\u001b[0m 117ms/step - loss: 0.0037\n",
      "Epoch 33/50\n",
      "\u001b[1m60/60\u001b[0m \u001b[32m━━━━━━━━━━━━━━━━━━━━\u001b[0m\u001b[37m\u001b[0m \u001b[1m10s\u001b[0m 175ms/step - loss: 0.0026\n",
      "Epoch 34/50\n",
      "\u001b[1m60/60\u001b[0m \u001b[32m━━━━━━━━━━━━━━━━━━━━\u001b[0m\u001b[37m\u001b[0m \u001b[1m11s\u001b[0m 188ms/step - loss: 0.0031\n",
      "Epoch 35/50\n",
      "\u001b[1m60/60\u001b[0m \u001b[32m━━━━━━━━━━━━━━━━━━━━\u001b[0m\u001b[37m\u001b[0m \u001b[1m9s\u001b[0m 154ms/step - loss: 0.0032\n",
      "Epoch 36/50\n",
      "\u001b[1m60/60\u001b[0m \u001b[32m━━━━━━━━━━━━━━━━━━━━\u001b[0m\u001b[37m\u001b[0m \u001b[1m12s\u001b[0m 199ms/step - loss: 0.0029\n",
      "Epoch 37/50\n",
      "\u001b[1m60/60\u001b[0m \u001b[32m━━━━━━━━━━━━━━━━━━━━\u001b[0m\u001b[37m\u001b[0m \u001b[1m11s\u001b[0m 178ms/step - loss: 0.0028\n",
      "Epoch 38/50\n",
      "\u001b[1m60/60\u001b[0m \u001b[32m━━━━━━━━━━━━━━━━━━━━\u001b[0m\u001b[37m\u001b[0m \u001b[1m21s\u001b[0m 182ms/step - loss: 0.0031\n",
      "Epoch 39/50\n",
      "\u001b[1m60/60\u001b[0m \u001b[32m━━━━━━━━━━━━━━━━━━━━\u001b[0m\u001b[37m\u001b[0m \u001b[1m18s\u001b[0m 134ms/step - loss: 0.0024\n",
      "Epoch 40/50\n",
      "\u001b[1m60/60\u001b[0m \u001b[32m━━━━━━━━━━━━━━━━━━━━\u001b[0m\u001b[37m\u001b[0m \u001b[1m11s\u001b[0m 187ms/step - loss: 0.0033\n",
      "Epoch 41/50\n",
      "\u001b[1m60/60\u001b[0m \u001b[32m━━━━━━━━━━━━━━━━━━━━\u001b[0m\u001b[37m\u001b[0m \u001b[1m10s\u001b[0m 170ms/step - loss: 0.0030\n",
      "Epoch 42/50\n",
      "\u001b[1m60/60\u001b[0m \u001b[32m━━━━━━━━━━━━━━━━━━━━\u001b[0m\u001b[37m\u001b[0m \u001b[1m10s\u001b[0m 158ms/step - loss: 0.0029\n",
      "Epoch 43/50\n",
      "\u001b[1m60/60\u001b[0m \u001b[32m━━━━━━━━━━━━━━━━━━━━\u001b[0m\u001b[37m\u001b[0m \u001b[1m11s\u001b[0m 188ms/step - loss: 0.0027\n",
      "Epoch 44/50\n",
      "\u001b[1m60/60\u001b[0m \u001b[32m━━━━━━━━━━━━━━━━━━━━\u001b[0m\u001b[37m\u001b[0m \u001b[1m16s\u001b[0m 116ms/step - loss: 0.0025\n",
      "Epoch 45/50\n",
      "\u001b[1m60/60\u001b[0m \u001b[32m━━━━━━━━━━━━━━━━━━━━\u001b[0m\u001b[37m\u001b[0m \u001b[1m12s\u001b[0m 197ms/step - loss: 0.0024\n",
      "Epoch 46/50\n",
      "\u001b[1m60/60\u001b[0m \u001b[32m━━━━━━━━━━━━━━━━━━━━\u001b[0m\u001b[37m\u001b[0m \u001b[1m10s\u001b[0m 170ms/step - loss: 0.0025\n",
      "Epoch 47/50\n",
      "\u001b[1m60/60\u001b[0m \u001b[32m━━━━━━━━━━━━━━━━━━━━\u001b[0m\u001b[37m\u001b[0m \u001b[1m9s\u001b[0m 153ms/step - loss: 0.0025\n",
      "Epoch 48/50\n",
      "\u001b[1m60/60\u001b[0m \u001b[32m━━━━━━━━━━━━━━━━━━━━\u001b[0m\u001b[37m\u001b[0m \u001b[1m11s\u001b[0m 186ms/step - loss: 0.0030\n",
      "Epoch 49/50\n",
      "\u001b[1m60/60\u001b[0m \u001b[32m━━━━━━━━━━━━━━━━━━━━\u001b[0m\u001b[37m\u001b[0m \u001b[1m10s\u001b[0m 171ms/step - loss: 0.0025\n",
      "Epoch 50/50\n",
      "\u001b[1m60/60\u001b[0m \u001b[32m━━━━━━━━━━━━━━━━━━━━\u001b[0m\u001b[37m\u001b[0m \u001b[1m10s\u001b[0m 160ms/step - loss: 0.0023\n"
     ]
    },
    {
     "data": {
      "text/plain": [
       "<keras.src.callbacks.history.History at 0x2485f1da510>"
      ]
     },
     "execution_count": 85,
     "metadata": {},
     "output_type": "execute_result"
    }
   ],
   "source": [
    "model.fit(x,y,epochs=50,batch_size=32,verbose=1)"
   ]
  },
  {
   "cell_type": "code",
   "execution_count": 87,
   "id": "f7426c5f-9470-4a93-a63c-31774b5155cc",
   "metadata": {},
   "outputs": [
    {
     "data": {
      "text/html": [
       "<pre style=\"white-space:pre;overflow-x:auto;line-height:normal;font-family:Menlo,'DejaVu Sans Mono',consolas,'Courier New',monospace\"><span style=\"font-weight: bold\">Model: \"sequential_5\"</span>\n",
       "</pre>\n"
      ],
      "text/plain": [
       "\u001b[1mModel: \"sequential_5\"\u001b[0m\n"
      ]
     },
     "metadata": {},
     "output_type": "display_data"
    },
    {
     "data": {
      "text/html": [
       "<pre style=\"white-space:pre;overflow-x:auto;line-height:normal;font-family:Menlo,'DejaVu Sans Mono',consolas,'Courier New',monospace\">┏━━━━━━━━━━━━━━━━━━━━━━━━━━━━━━━┳━━━━━━━━━━━━━━━━━━━━━━━┳━━━━━━━━━━━━━━┓\n",
       "┃<span style=\"font-weight: bold\"> Layer (type)                  </span>┃<span style=\"font-weight: bold\"> Output Shape          </span>┃<span style=\"font-weight: bold\">      Param # </span>┃\n",
       "┡━━━━━━━━━━━━━━━━━━━━━━━━━━━━━━━╇━━━━━━━━━━━━━━━━━━━━━━━╇━━━━━━━━━━━━━━┩\n",
       "│ lstm_10 (<span style=\"color: #0087ff; text-decoration-color: #0087ff\">LSTM</span>)                │ (<span style=\"color: #00d7ff; text-decoration-color: #00d7ff\">None</span>, <span style=\"color: #00af00; text-decoration-color: #00af00\">100</span>, <span style=\"color: #00af00; text-decoration-color: #00af00\">50</span>)       │       <span style=\"color: #00af00; text-decoration-color: #00af00\">10,400</span> │\n",
       "├───────────────────────────────┼───────────────────────┼──────────────┤\n",
       "│ dropout_10 (<span style=\"color: #0087ff; text-decoration-color: #0087ff\">Dropout</span>)          │ (<span style=\"color: #00d7ff; text-decoration-color: #00d7ff\">None</span>, <span style=\"color: #00af00; text-decoration-color: #00af00\">100</span>, <span style=\"color: #00af00; text-decoration-color: #00af00\">50</span>)       │            <span style=\"color: #00af00; text-decoration-color: #00af00\">0</span> │\n",
       "├───────────────────────────────┼───────────────────────┼──────────────┤\n",
       "│ lstm_11 (<span style=\"color: #0087ff; text-decoration-color: #0087ff\">LSTM</span>)                │ (<span style=\"color: #00d7ff; text-decoration-color: #00d7ff\">None</span>, <span style=\"color: #00af00; text-decoration-color: #00af00\">100</span>, <span style=\"color: #00af00; text-decoration-color: #00af00\">60</span>)       │       <span style=\"color: #00af00; text-decoration-color: #00af00\">26,640</span> │\n",
       "├───────────────────────────────┼───────────────────────┼──────────────┤\n",
       "│ dropout_11 (<span style=\"color: #0087ff; text-decoration-color: #0087ff\">Dropout</span>)          │ (<span style=\"color: #00d7ff; text-decoration-color: #00d7ff\">None</span>, <span style=\"color: #00af00; text-decoration-color: #00af00\">100</span>, <span style=\"color: #00af00; text-decoration-color: #00af00\">60</span>)       │            <span style=\"color: #00af00; text-decoration-color: #00af00\">0</span> │\n",
       "├───────────────────────────────┼───────────────────────┼──────────────┤\n",
       "│ lstm_12 (<span style=\"color: #0087ff; text-decoration-color: #0087ff\">LSTM</span>)                │ (<span style=\"color: #00d7ff; text-decoration-color: #00d7ff\">None</span>, <span style=\"color: #00af00; text-decoration-color: #00af00\">100</span>, <span style=\"color: #00af00; text-decoration-color: #00af00\">80</span>)       │       <span style=\"color: #00af00; text-decoration-color: #00af00\">45,120</span> │\n",
       "├───────────────────────────────┼───────────────────────┼──────────────┤\n",
       "│ dropout_12 (<span style=\"color: #0087ff; text-decoration-color: #0087ff\">Dropout</span>)          │ (<span style=\"color: #00d7ff; text-decoration-color: #00d7ff\">None</span>, <span style=\"color: #00af00; text-decoration-color: #00af00\">100</span>, <span style=\"color: #00af00; text-decoration-color: #00af00\">80</span>)       │            <span style=\"color: #00af00; text-decoration-color: #00af00\">0</span> │\n",
       "├───────────────────────────────┼───────────────────────┼──────────────┤\n",
       "│ lstm_13 (<span style=\"color: #0087ff; text-decoration-color: #0087ff\">LSTM</span>)                │ (<span style=\"color: #00d7ff; text-decoration-color: #00d7ff\">None</span>, <span style=\"color: #00af00; text-decoration-color: #00af00\">120</span>)           │       <span style=\"color: #00af00; text-decoration-color: #00af00\">96,480</span> │\n",
       "├───────────────────────────────┼───────────────────────┼──────────────┤\n",
       "│ dropout_13 (<span style=\"color: #0087ff; text-decoration-color: #0087ff\">Dropout</span>)          │ (<span style=\"color: #00d7ff; text-decoration-color: #00d7ff\">None</span>, <span style=\"color: #00af00; text-decoration-color: #00af00\">120</span>)           │            <span style=\"color: #00af00; text-decoration-color: #00af00\">0</span> │\n",
       "├───────────────────────────────┼───────────────────────┼──────────────┤\n",
       "│ dense (<span style=\"color: #0087ff; text-decoration-color: #0087ff\">Dense</span>)                 │ (<span style=\"color: #00d7ff; text-decoration-color: #00d7ff\">None</span>, <span style=\"color: #00af00; text-decoration-color: #00af00\">1</span>)             │          <span style=\"color: #00af00; text-decoration-color: #00af00\">121</span> │\n",
       "└───────────────────────────────┴───────────────────────┴──────────────┘\n",
       "</pre>\n"
      ],
      "text/plain": [
       "┏━━━━━━━━━━━━━━━━━━━━━━━━━━━━━━━┳━━━━━━━━━━━━━━━━━━━━━━━┳━━━━━━━━━━━━━━┓\n",
       "┃\u001b[1m \u001b[0m\u001b[1mLayer (type)                 \u001b[0m\u001b[1m \u001b[0m┃\u001b[1m \u001b[0m\u001b[1mOutput Shape         \u001b[0m\u001b[1m \u001b[0m┃\u001b[1m \u001b[0m\u001b[1m     Param #\u001b[0m\u001b[1m \u001b[0m┃\n",
       "┡━━━━━━━━━━━━━━━━━━━━━━━━━━━━━━━╇━━━━━━━━━━━━━━━━━━━━━━━╇━━━━━━━━━━━━━━┩\n",
       "│ lstm_10 (\u001b[38;5;33mLSTM\u001b[0m)                │ (\u001b[38;5;45mNone\u001b[0m, \u001b[38;5;34m100\u001b[0m, \u001b[38;5;34m50\u001b[0m)       │       \u001b[38;5;34m10,400\u001b[0m │\n",
       "├───────────────────────────────┼───────────────────────┼──────────────┤\n",
       "│ dropout_10 (\u001b[38;5;33mDropout\u001b[0m)          │ (\u001b[38;5;45mNone\u001b[0m, \u001b[38;5;34m100\u001b[0m, \u001b[38;5;34m50\u001b[0m)       │            \u001b[38;5;34m0\u001b[0m │\n",
       "├───────────────────────────────┼───────────────────────┼──────────────┤\n",
       "│ lstm_11 (\u001b[38;5;33mLSTM\u001b[0m)                │ (\u001b[38;5;45mNone\u001b[0m, \u001b[38;5;34m100\u001b[0m, \u001b[38;5;34m60\u001b[0m)       │       \u001b[38;5;34m26,640\u001b[0m │\n",
       "├───────────────────────────────┼───────────────────────┼──────────────┤\n",
       "│ dropout_11 (\u001b[38;5;33mDropout\u001b[0m)          │ (\u001b[38;5;45mNone\u001b[0m, \u001b[38;5;34m100\u001b[0m, \u001b[38;5;34m60\u001b[0m)       │            \u001b[38;5;34m0\u001b[0m │\n",
       "├───────────────────────────────┼───────────────────────┼──────────────┤\n",
       "│ lstm_12 (\u001b[38;5;33mLSTM\u001b[0m)                │ (\u001b[38;5;45mNone\u001b[0m, \u001b[38;5;34m100\u001b[0m, \u001b[38;5;34m80\u001b[0m)       │       \u001b[38;5;34m45,120\u001b[0m │\n",
       "├───────────────────────────────┼───────────────────────┼──────────────┤\n",
       "│ dropout_12 (\u001b[38;5;33mDropout\u001b[0m)          │ (\u001b[38;5;45mNone\u001b[0m, \u001b[38;5;34m100\u001b[0m, \u001b[38;5;34m80\u001b[0m)       │            \u001b[38;5;34m0\u001b[0m │\n",
       "├───────────────────────────────┼───────────────────────┼──────────────┤\n",
       "│ lstm_13 (\u001b[38;5;33mLSTM\u001b[0m)                │ (\u001b[38;5;45mNone\u001b[0m, \u001b[38;5;34m120\u001b[0m)           │       \u001b[38;5;34m96,480\u001b[0m │\n",
       "├───────────────────────────────┼───────────────────────┼──────────────┤\n",
       "│ dropout_13 (\u001b[38;5;33mDropout\u001b[0m)          │ (\u001b[38;5;45mNone\u001b[0m, \u001b[38;5;34m120\u001b[0m)           │            \u001b[38;5;34m0\u001b[0m │\n",
       "├───────────────────────────────┼───────────────────────┼──────────────┤\n",
       "│ dense (\u001b[38;5;33mDense\u001b[0m)                 │ (\u001b[38;5;45mNone\u001b[0m, \u001b[38;5;34m1\u001b[0m)             │          \u001b[38;5;34m121\u001b[0m │\n",
       "└───────────────────────────────┴───────────────────────┴──────────────┘\n"
      ]
     },
     "metadata": {},
     "output_type": "display_data"
    },
    {
     "data": {
      "text/html": [
       "<pre style=\"white-space:pre;overflow-x:auto;line-height:normal;font-family:Menlo,'DejaVu Sans Mono',consolas,'Courier New',monospace\"><span style=\"font-weight: bold\"> Total params: </span><span style=\"color: #00af00; text-decoration-color: #00af00\">536,285</span> (2.05 MB)\n",
       "</pre>\n"
      ],
      "text/plain": [
       "\u001b[1m Total params: \u001b[0m\u001b[38;5;34m536,285\u001b[0m (2.05 MB)\n"
      ]
     },
     "metadata": {},
     "output_type": "display_data"
    },
    {
     "data": {
      "text/html": [
       "<pre style=\"white-space:pre;overflow-x:auto;line-height:normal;font-family:Menlo,'DejaVu Sans Mono',consolas,'Courier New',monospace\"><span style=\"font-weight: bold\"> Trainable params: </span><span style=\"color: #00af00; text-decoration-color: #00af00\">178,761</span> (698.29 KB)\n",
       "</pre>\n"
      ],
      "text/plain": [
       "\u001b[1m Trainable params: \u001b[0m\u001b[38;5;34m178,761\u001b[0m (698.29 KB)\n"
      ]
     },
     "metadata": {},
     "output_type": "display_data"
    },
    {
     "data": {
      "text/html": [
       "<pre style=\"white-space:pre;overflow-x:auto;line-height:normal;font-family:Menlo,'DejaVu Sans Mono',consolas,'Courier New',monospace\"><span style=\"font-weight: bold\"> Non-trainable params: </span><span style=\"color: #00af00; text-decoration-color: #00af00\">0</span> (0.00 B)\n",
       "</pre>\n"
      ],
      "text/plain": [
       "\u001b[1m Non-trainable params: \u001b[0m\u001b[38;5;34m0\u001b[0m (0.00 B)\n"
      ]
     },
     "metadata": {},
     "output_type": "display_data"
    },
    {
     "data": {
      "text/html": [
       "<pre style=\"white-space:pre;overflow-x:auto;line-height:normal;font-family:Menlo,'DejaVu Sans Mono',consolas,'Courier New',monospace\"><span style=\"font-weight: bold\"> Optimizer params: </span><span style=\"color: #00af00; text-decoration-color: #00af00\">357,524</span> (1.36 MB)\n",
       "</pre>\n"
      ],
      "text/plain": [
       "\u001b[1m Optimizer params: \u001b[0m\u001b[38;5;34m357,524\u001b[0m (1.36 MB)\n"
      ]
     },
     "metadata": {},
     "output_type": "display_data"
    }
   ],
   "source": [
    "model.summary()"
   ]
  },
  {
   "cell_type": "code",
   "execution_count": 89,
   "id": "e6609006-d3dc-4a9b-801b-777b2803fdcc",
   "metadata": {},
   "outputs": [],
   "source": [
    "past_100_day=data_train.tail(100)"
   ]
  },
  {
   "cell_type": "code",
   "execution_count": 93,
   "id": "38c91fe9-c257-4bc5-9af1-20d0340383e1",
   "metadata": {},
   "outputs": [],
   "source": [
    "data_test=pd.concat([past_100_day,data_test],ignore_index=True)"
   ]
  },
  {
   "cell_type": "code",
   "execution_count": 97,
   "id": "532a14bf-43c0-473b-8f8c-01c3ae4d73a7",
   "metadata": {},
   "outputs": [],
   "source": [
    "data_test_scale=scaler.fit_transform(data_test)"
   ]
  },
  {
   "cell_type": "code",
   "execution_count": 102,
   "id": "0e89c2ac-8031-486f-80a7-e5a175b5d5fd",
   "metadata": {},
   "outputs": [],
   "source": [
    "x,y=[],[]\n",
    "for i in range(100, data_test_scale.shape[0]):\n",
    "    x.append(data_test_scale[i-100:i])\n",
    "    y.append(data_test_scale[i,0])\n",
    "x,y=np.array(x),np.array(y)"
   ]
  },
  {
   "cell_type": "code",
   "execution_count": 103,
   "id": "0ec70bb7-833f-430e-8a9b-f54e314b8323",
   "metadata": {},
   "outputs": [
    {
     "name": "stdout",
     "output_type": "stream",
     "text": [
      "\u001b[1m16/16\u001b[0m \u001b[32m━━━━━━━━━━━━━━━━━━━━\u001b[0m\u001b[37m\u001b[0m \u001b[1m5s\u001b[0m 177ms/step\n"
     ]
    }
   ],
   "source": [
    "y_predict=model.predict(x)"
   ]
  },
  {
   "cell_type": "code",
   "execution_count": 112,
   "id": "45b34043-d5a6-4ae4-b87a-fdfd90093fb9",
   "metadata": {},
   "outputs": [],
   "source": [
    "scale=1/scaler.scale_"
   ]
  },
  {
   "cell_type": "code",
   "execution_count": 114,
   "id": "30831b1f-8331-4cd2-ae00-e9d853767673",
   "metadata": {},
   "outputs": [],
   "source": [
    "y_predict*=scale"
   ]
  },
  {
   "cell_type": "code",
   "execution_count": 116,
   "id": "997d72b2-10e3-4cb1-b039-900e40c9eef7",
   "metadata": {},
   "outputs": [],
   "source": [
    "y*=scale"
   ]
  },
  {
   "cell_type": "code",
   "execution_count": 120,
   "id": "edd3bd4a-e418-44e1-b2c1-f914914a919c",
   "metadata": {},
   "outputs": [
    {
     "data": {
      "image/png": "[encoded data removed]",
      "text/plain": [
       "<Figure size 1000x800 with 1 Axes>"
      ]
     },
     "metadata": {},
     "output_type": "display_data"
    }
   ],
   "source": [
    "plt.figure(figsize=(10,8))\n",
    "plt.plot(y_predict,'r',label=\"Predicted Price\")\n",
    "plt.plot(y,'g',label=\"Original Price\")\n",
    "plt.xlabel(\"Time\")\n",
    "plt.ylabel(\"Price\")\n",
    "plt.legend()\n",
    "plt.show()"
   ]
  },
  {
   "cell_type": "code",
   "execution_count": 124,
   "id": "b6aeb08a-0097-4dca-9f08-bc4b14c1a566",
   "metadata": {},
   "outputs": [],
   "source": [
    "model.save(\"Stock Prediction Model.keras\")"
   ]
  },
  {
   "cell_type": "code",
   "execution_count": null,
   "id": "b5192a8f-98ad-4fa9-b37a-46105747edd6",
   "metadata": {},
   "outputs": [],
   "source": []
  }
 ],
 "metadata": {
  "kernelspec": {
   "display_name": "Python [conda env:base] *",
   "language": "python",
   "name": "conda-base-py"
  },
  "language_info": {
   "codemirror_mode": {
    "name": "ipython",
    "version": 3
   },
   "file_extension": ".py",
   "mimetype": "text/x-python",
   "name": "python",
   "nbconvert_exporter": "python",
   "pygments_lexer": "ipython3",
   "version": "3.12.7"
  }
 },
 "nbformat": 4,
 "nbformat_minor": 5
}
